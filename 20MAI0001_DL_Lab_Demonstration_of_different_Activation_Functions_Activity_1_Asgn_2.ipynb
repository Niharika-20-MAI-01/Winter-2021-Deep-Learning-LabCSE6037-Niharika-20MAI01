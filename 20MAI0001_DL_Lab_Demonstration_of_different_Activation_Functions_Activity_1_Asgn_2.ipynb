{
  "nbformat": 4,
  "nbformat_minor": 0,
  "metadata": {
    "colab": {
      "name": "20MAI0001_DL-Lab_Demonstration_of_different_Activation-Functions_Activity-1_Asgn-2.ipynb",
      "provenance": [],
      "collapsed_sections": [],
      "authorship_tag": "ABX9TyOKvUa+nnyC3IOprAtVq8ql",
      "include_colab_link": true
    },
    "kernelspec": {
      "name": "python3",
      "display_name": "Python 3"
    }
  },
  "cells": [
    {
      "cell_type": "markdown",
      "metadata": {
        "id": "view-in-github",
        "colab_type": "text"
      },
      "source": [
        "<a href=\"https://colab.research.google.com/github/Niharika-20-MAI-01/Winter-2021-Deep-Learning-LabCSE6037-Niharika-20MAI01/blob/main/20MAI0001_DL_Lab_Demonstration_of_different_Activation_Functions_Activity_1_Asgn_2.ipynb\" target=\"_parent\"><img src=\"https://colab.research.google.com/assets/colab-badge.svg\" alt=\"Open In Colab\"/></a>"
      ]
    },
    {
      "cell_type": "markdown",
      "metadata": {
        "id": "5_zb56a25rTx"
      },
      "source": [
        "DL-Lab-CSE6037_Lab-Assignment-2_Activity-1_Demonstration_of_different_Activation-Functions-(Sigmoidal, Tanh, RELU, Leaky RELU, Exponential RELU)\r\n",
        "\r\n",
        "Submitted By: 20MAI0001 - NIHARIKA MAITRA\r\n",
        "\r\n",
        "git Repo Link :"
      ]
    },
    {
      "cell_type": "code",
      "metadata": {
        "id": "KZsWzfZU4_NK"
      },
      "source": [
        "# Importing necessary Libraries and Packages\r\n",
        "import numpy as np\r\n",
        "import matplotlib.pyplot as plt\r\n",
        "import tensorflow as tf\r\n",
        "from tensorflow.keras.activations import elu"
      ],
      "execution_count": 61,
      "outputs": []
    },
    {
      "cell_type": "code",
      "metadata": {
        "id": "oCOZJg954_Wn"
      },
      "source": [
        "from IPython.display import Image"
      ],
      "execution_count": 17,
      "outputs": []
    },
    {
      "cell_type": "markdown",
      "metadata": {
        "id": "IOhdEfnA5Jlr"
      },
      "source": [
        "Demonstrating the Implementation of Sigmoidal Activation Function :"
      ]
    },
    {
      "cell_type": "markdown",
      "metadata": {
        "id": "UUditUG-6w9X"
      },
      "source": [
        "Equation of the Sigmoidal Activation Function : 1/(1+e^(-x))"
      ]
    },
    {
      "cell_type": "code",
      "metadata": {
        "id": "NvZdAaVp4_aE"
      },
      "source": [
        "#This Sigmoidal Activation Function returns 1/(1+e^(-x))\r\n",
        "#the value returned lies between zero and one\r\n",
        "\r\n",
        "def sigmoid(x):\r\n",
        "    return 1/(1+np.exp(-x))"
      ],
      "execution_count": 18,
      "outputs": []
    },
    {
      "cell_type": "markdown",
      "metadata": {
        "id": "rJ9AvAl47LYI"
      },
      "source": [
        "Plotting the Curve of the Sigmoidal activation Function :"
      ]
    },
    {
      "cell_type": "code",
      "metadata": {
        "colab": {
          "base_uri": "https://localhost:8080/",
          "height": 281
        },
        "id": "YvHZvioX6F3u",
        "outputId": "3abe8921-3db8-4f3b-df6d-efdb810f489f"
      },
      "source": [
        "x1 = np.linspace(-10, 10)\r\n",
        "plt.plot(x1, sigmoid(x1))\r\n",
        "plt.axis('tight')\r\n",
        "plt.title('Activation Function : SIGMOID')\r\n",
        "plt.show()"
      ],
      "execution_count": 19,
      "outputs": [
        {
          "output_type": "display_data",
          "data": {
            "image/png": "[encoded data removed]",
            "text/plain": [
              "<Figure size 432x288 with 1 Axes>"
            ]
          },
          "metadata": {
            "tags": [],
            "needs_background": "light"
          }
        }
      ]
    },
    {
      "cell_type": "code",
      "metadata": {
        "id": "loLg5FP94_c7"
      },
      "source": [
        ""
      ],
      "execution_count": 19,
      "outputs": []
    },
    {
      "cell_type": "markdown",
      "metadata": {
        "id": "QQ-AMCjG78pM"
      },
      "source": [
        "Demonstrating the Implementation of Tanh Activation Function :"
      ]
    },
    {
      "cell_type": "markdown",
      "metadata": {
        "id": "uG1TL8LW78Eo"
      },
      "source": [
        "Equation of the Tanh Activation Function : (1-e^(-2x))/(1+e^(-2x))"
      ]
    },
    {
      "cell_type": "code",
      "metadata": {
        "id": "TNbQ5Din4_fv"
      },
      "source": [
        "#This Tanh Activation Function returns the value (1-e^(-2x))/(1+e^(-2x)) \r\n",
        "#the value returned lies between -1 to 1\r\n",
        "\r\n",
        "def tanh(x):\r\n",
        "    return np.tanh(x)"
      ],
      "execution_count": 20,
      "outputs": []
    },
    {
      "cell_type": "markdown",
      "metadata": {
        "id": "_KSK6MzQFuYY"
      },
      "source": [
        "Plotting the Curve of the Tanh activation Function :"
      ]
    },
    {
      "cell_type": "code",
      "metadata": {
        "colab": {
          "base_uri": "https://localhost:8080/",
          "height": 281
        },
        "id": "62kBswz04_iZ",
        "outputId": "2d7ebead-02fc-4dd1-8423-cd84ecdd6311"
      },
      "source": [
        "x3 = np.linspace(-10, 10)\r\n",
        "plt.plot(x3, tanh(x3))\r\n",
        "plt.axis('tight')\r\n",
        "plt.title('Activation Function : TANh')\r\n",
        "plt.show()"
      ],
      "execution_count": 21,
      "outputs": [
        {
          "output_type": "display_data",
          "data": {
            "image/png": "[encoded data removed]",
            "text/plain": [
              "<Figure size 432x288 with 1 Axes>"
            ]
          },
          "metadata": {
            "tags": [],
            "needs_background": "light"
          }
        }
      ]
    },
    {
      "cell_type": "code",
      "metadata": {
        "id": "R-53_GDJ_stG"
      },
      "source": [
        ""
      ],
      "execution_count": 21,
      "outputs": []
    },
    {
      "cell_type": "markdown",
      "metadata": {
        "id": "uMHnqoamCEvb"
      },
      "source": [
        "Demonstrating the Implementation of ReLU Activation Function :"
      ]
    },
    {
      "cell_type": "markdown",
      "metadata": {
        "id": "YUw2AZXeCEiC"
      },
      "source": [
        "Equation of the ReLU Activation Function : \r\n",
        "   f(x) = 0 , if x<=0,   \r\n",
        "   else \r\n",
        "   f(x) = x, if x>0"
      ]
    },
    {
      "cell_type": "code",
      "metadata": {
        "id": "K1XIGrjj_s3r"
      },
      "source": [
        "#The ReLU Activation Function:\r\n",
        "    #returns 0 if the x (input) is less than or equal to 0\r\n",
        "    #returns x (the given input) if the x (input) is greater than 0\r\n",
        "\r\n",
        "def RELU(x):\r\n",
        "    x1=[]\r\n",
        "    for i in x:\r\n",
        "        if i<0:\r\n",
        "            x1.append(0)\r\n",
        "        else:\r\n",
        "            x1.append(i)\r\n",
        "    return x1"
      ],
      "execution_count": 22,
      "outputs": []
    },
    {
      "cell_type": "markdown",
      "metadata": {
        "id": "42s4g9V_F7v1"
      },
      "source": [
        "Plotting the Curve of the ReLU Activation Function : "
      ]
    },
    {
      "cell_type": "code",
      "metadata": {
        "colab": {
          "base_uri": "https://localhost:8080/",
          "height": 281
        },
        "id": "EVuAFrY6_s7M",
        "outputId": "40703b82-f065-4d40-845e-5f0ac0eba625"
      },
      "source": [
        "x4 = np.linspace(-10, 10)\r\n",
        "plt.plot(x4, RELU(x4))\r\n",
        "plt.axis('tight')\r\n",
        "plt.title('Activation Function : ReLU')\r\n",
        "plt.show()"
      ],
      "execution_count": 23,
      "outputs": [
        {
          "output_type": "display_data",
          "data": {
            "image/png": "[encoded data removed]",
            "text/plain": [
              "<Figure size 432x288 with 1 Axes>"
            ]
          },
          "metadata": {
            "tags": [],
            "needs_background": "light"
          }
        }
      ]
    },
    {
      "cell_type": "code",
      "metadata": {
        "id": "gNouQ-Hj_s-_"
      },
      "source": [
        ""
      ],
      "execution_count": 23,
      "outputs": []
    },
    {
      "cell_type": "markdown",
      "metadata": {
        "id": "EygEyUb5HGTT"
      },
      "source": [
        "Demonstrating the Implementation of Leaky ReLU Activation Function :"
      ]
    },
    {
      "cell_type": "markdown",
      "metadata": {
        "id": "dP6p9xLZHGLj"
      },
      "source": [
        "Equation of the Leaky ReLU Activation Function : \r\n",
        "             f(x) = (a*x), if x<0, where 'a' is a   small constant,   \r\n",
        "                   else\r\n",
        "             f(x) =  x,    if x>=0"
      ]
    },
    {
      "cell_type": "code",
      "metadata": {
        "id": "1b6UlTgCHFmZ"
      },
      "source": [
        "#The Leaky ReLU Activation Function:\r\n",
        "    #returns (a*x) if the x (input) is less than 0\r\n",
        "    #returns x (the given input) if the x (input) is greater than or equal to 0\r\n",
        "\r\n",
        "def leaky_Relu(x3):\r\n",
        "  x4=[]\r\n",
        "  for i in x3:\r\n",
        "    if i < 0:\r\n",
        "      x4.append(0.01*x3) #here 'a' is a small constant whose value is considered to be equal to 0.01\r\n",
        "    else : \r\n",
        "      x4.append(x3) \r\n",
        "  return x4"
      ],
      "execution_count": 41,
      "outputs": []
    },
    {
      "cell_type": "markdown",
      "metadata": {
        "id": "V6iM2SjxMSqd"
      },
      "source": [
        "Plotting the Curve of the Leaky ReLU Activation Function : "
      ]
    },
    {
      "cell_type": "code",
      "metadata": {
        "colab": {
          "base_uri": "https://localhost:8080/",
          "height": 281
        },
        "id": "SKPiQWtj_tDJ",
        "outputId": "2120fe50-9ad1-4304-db3c-71f685a57095"
      },
      "source": [
        "x5 = np.linspace(-10, 10)\r\n",
        "plt.plot(x5, leaky_Relu(x5))\r\n",
        "plt.axis('tight')\r\n",
        "plt.title('Activation Function : LEAKY ReLU')\r\n",
        "plt.show()"
      ],
      "execution_count": 42,
      "outputs": [
        {
          "output_type": "display_data",
          "data": {
            "image/png": "[encoded data removed]",
            "text/plain": [
              "<Figure size 432x288 with 1 Axes>"
            ]
          },
          "metadata": {
            "tags": [],
            "needs_background": "light"
          }
        }
      ]
    },
    {
      "cell_type": "code",
      "metadata": {
        "id": "S4NfEvkp_tSe"
      },
      "source": [
        ""
      ],
      "execution_count": 23,
      "outputs": []
    },
    {
      "cell_type": "markdown",
      "metadata": {
        "id": "JRx-Cg07Qpv5"
      },
      "source": [
        "Demonstrating the Implementation of Exponential ReLU Activation Function :"
      ]
    },
    {
      "cell_type": "markdown",
      "metadata": {
        "id": "gnnQjcZ-Qpl2"
      },
      "source": [
        "Equation of the Exponential ReLU Activation Function :\r\n",
        "   f(x) = (a*(e^(x) - 1)), if x<=0, where a is the hyperparameter,      \r\n",
        "   else \r\n",
        "   f(x) = x, if x>0"
      ]
    },
    {
      "cell_type": "code",
      "metadata": {
        "id": "MPSaN0YC4_n2"
      },
      "source": [
        "#The Exponential ReLU Activation Function:\r\n",
        "    #returns (a*(e^(x) - 1)) if the x (input) is less than or equal to 0\r\n",
        "    #returns x (the given input) if the x (input) is greater than  0\r\n",
        "\r\n",
        "def expon_Relu(x3):\r\n",
        "  return elu(x3, alpha=1)"
      ],
      "execution_count": 62,
      "outputs": []
    },
    {
      "cell_type": "markdown",
      "metadata": {
        "id": "GoXLJYGbW9TT"
      },
      "source": [
        "Plotting the Curve of the Exponential ReLU Activation Function :"
      ]
    },
    {
      "cell_type": "code",
      "metadata": {
        "colab": {
          "base_uri": "https://localhost:8080/",
          "height": 281
        },
        "id": "hXMplLwKQoaD",
        "outputId": "9789c937-d04b-44dc-ec26-c61c9f8af136"
      },
      "source": [
        "x5 = np.linspace(-10, 10)\r\n",
        "plt.plot(x5, expon_Relu(x5))\r\n",
        "plt.axis('tight')\r\n",
        "plt.title('Activation Function : EXPONENTIAL ReLU')\r\n",
        "plt.show()"
      ],
      "execution_count": 63,
      "outputs": [
        {
          "output_type": "display_data",
          "data": {
            "image/png": "[encoded data removed]",
            "text/plain": [
              "<Figure size 432x288 with 1 Axes>"
            ]
          },
          "metadata": {
            "tags": [],
            "needs_background": "light"
          }
        }
      ]
    },
    {
      "cell_type": "code",
      "metadata": {
        "id": "553LH3WBQoj2"
      },
      "source": [
        ""
      ],
      "execution_count": null,
      "outputs": []
    }
  ]
}