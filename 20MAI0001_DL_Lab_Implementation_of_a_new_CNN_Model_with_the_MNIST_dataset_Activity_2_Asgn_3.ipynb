{
  "nbformat": 4,
  "nbformat_minor": 0,
  "metadata": {
    "colab": {
      "name": "20MAI0001_DL-Lab_Implementation_of_a_new_CNN_Model_with_the_MNIST-dataset_Activity-2_Asgn-3.ipynb",
      "provenance": [],
      "collapsed_sections": [],
      "authorship_tag": "ABX9TyNArNDH6X63kl1rLIL8maTH",
      "include_colab_link": true
    },
    "kernelspec": {
      "name": "python3",
      "display_name": "Python 3"
    },
    "language_info": {
      "name": "python"
    },
    "accelerator": "GPU"
  },
  "cells": [
    {
      "cell_type": "markdown",
      "metadata": {
        "id": "view-in-github",
        "colab_type": "text"
      },
      "source": [
        "<a href=\"https://colab.research.google.com/github/Niharika-20-MAI-01/Winter-2021-Deep-Learning-LabCSE6037-Niharika-20MAI01/blob/main/20MAI0001_DL_Lab_Implementation_of_a_new_CNN_Model_with_the_MNIST_dataset_Activity_2_Asgn_3.ipynb\" target=\"_parent\"><img src=\"https://colab.research.google.com/assets/colab-badge.svg\" alt=\"Open In Colab\"/></a>"
      ]
    },
    {
      "cell_type": "markdown",
      "metadata": {
        "id": "j_tTeykorS0S"
      },
      "source": [
        "DL-Lab-CSE6037_Lab-Assignment-3_Activity-2_Implementation_of_a_new_CNN_Model_with_the_MNIST-dataset\n",
        "\n",
        "Submitted By: 20MAI0001 - NIHARIKA MAITRA\n",
        "\n",
        "git Repo Link :\n",
        "\n",
        "\n",
        "https://github.com/Niharika-20-MAI-01/Winter-2021-Deep-Learning-LabCSE6037-Niharika-20MAI01/blob/main/20MAI0001_DL_Lab_Implementation_of_a_new_CNN_Model_with_the_MNIST_dataset_Activity_2_Asgn_3.ipynb\n",
        "\n"
      ]
    },
    {
      "cell_type": "code",
      "metadata": {
        "id": "pCBthrGLrhvg"
      },
      "source": [
        ""
      ],
      "execution_count": 151,
      "outputs": []
    },
    {
      "cell_type": "code",
      "metadata": {
        "id": "lglQ6D2epnz_"
      },
      "source": [
        "#Importing library\n",
        "import keras\n",
        "#from keras.models import Reshape()\n",
        "from keras.models import Sequential\n",
        "from keras.layers import Dense, Activation, Dropout, Flatten, Conv2D, AveragePooling2D, MaxPooling2D\n",
        "from keras.layers.normalization import BatchNormalization\n",
        "import numpy as np\n",
        "import warnings\n",
        "warnings.filterwarnings('ignore')\n",
        "import matplotlib.pyplot as plt"
      ],
      "execution_count": 152,
      "outputs": []
    },
    {
      "cell_type": "code",
      "metadata": {
        "id": "ev5nZuJBrj1C"
      },
      "source": [
        "np.random.seed(1000)"
      ],
      "execution_count": 153,
      "outputs": []
    },
    {
      "cell_type": "markdown",
      "metadata": {
        "id": "EfeJ9lONOEj8"
      },
      "source": [
        "Developing / Creating the CNN Model and adding the Convolution Layers"
      ]
    },
    {
      "cell_type": "code",
      "metadata": {
        "id": "_nxteOAPrj36"
      },
      "source": [
        "#Instantiation\n",
        "Nmodel = Sequential()"
      ],
      "execution_count": 154,
      "outputs": []
    },
    {
      "cell_type": "code",
      "metadata": {
        "id": "pUlg8pznZE2s"
      },
      "source": [
        ""
      ],
      "execution_count": 154,
      "outputs": []
    },
    {
      "cell_type": "markdown",
      "metadata": {
        "id": "8UdfgeTwPPRn"
      },
      "source": [
        "1st Convolutional Layer : Input = 32x32x1. Output = 28x28x6               and"
      ]
    },
    {
      "cell_type": "markdown",
      "metadata": {
        "id": "1g-NwiitSvjC"
      },
      "source": [
        "1st SubSampling Layer: Input = 28x28x6. Output = 14x14x6"
      ]
    },
    {
      "cell_type": "code",
      "metadata": {
        "id": "oTDdRjnLWVZT"
      },
      "source": [
        "#Nmodel.add(Reshape((32, 32, 1)))\n",
        "#1st Convolutional Layer : Input = 32x32x1. Output = 28x28x6\n",
        "Nmodel.add(Conv2D(32, (3,3),  padding='same', input_shape=(32,32,1), activation=\"relu\"))\n",
        "Nmodel.add(Conv2D(32, (3,3),  activation=\"relu\"))\n",
        "\n",
        "#1st SubSampling Layer: Input = 28x28x6. Output = 14x14x6\n",
        "Nmodel.add(AveragePooling2D(pool_size=(2,2)))\n",
        "\n",
        "Nmodel.add(BatchNormalization())\n",
        "Nmodel.add(Dropout(0.25))\n"
      ],
      "execution_count": 155,
      "outputs": []
    },
    {
      "cell_type": "code",
      "metadata": {
        "id": "FbPgnJqvW6lv"
      },
      "source": [
        ""
      ],
      "execution_count": 155,
      "outputs": []
    },
    {
      "cell_type": "markdown",
      "metadata": {
        "id": "2MD39GE4W7hw"
      },
      "source": [
        "2nd Convolutional Layer : Input = 14x14x6. Output = 10x10x16"
      ]
    },
    {
      "cell_type": "markdown",
      "metadata": {
        "id": "AvNjqScIUFFO"
      },
      "source": [
        "2nd SubSampling Layer: Input = 10x10x16. Output = 5x5x16"
      ]
    },
    {
      "cell_type": "code",
      "metadata": {
        "id": "lLqic4RakH-t"
      },
      "source": [
        "#2nd Convolutional Layer : Input = 14x14x6. Output = 10x10x16\n",
        "Nmodel.add(Conv2D(64, (3,3),  padding='same', input_shape=(14,14,6), activation=\"relu\"))\n",
        "Nmodel.add(Conv2D(64, (3,3),  activation=\"relu\"))\n",
        "\n",
        "#2nd SubSampling Layer: Input = 10x10x16. Output = 5x5x16\n",
        "Nmodel.add(AveragePooling2D(pool_size=(2,2)))\n",
        "\n",
        "Nmodel.add(BatchNormalization())\n",
        "Nmodel.add(Dropout(0.25))"
      ],
      "execution_count": 156,
      "outputs": []
    },
    {
      "cell_type": "code",
      "metadata": {
        "id": "vuu0rM-Irj-v"
      },
      "source": [
        ""
      ],
      "execution_count": 156,
      "outputs": []
    },
    {
      "cell_type": "code",
      "metadata": {
        "id": "XTZjm7URRT3V"
      },
      "source": [
        "#Passing the Model to a Fully Connected layer\n",
        "Nmodel.add(Flatten())"
      ],
      "execution_count": 157,
      "outputs": []
    },
    {
      "cell_type": "code",
      "metadata": {
        "id": "E6uxx3SwkvlY"
      },
      "source": [
        ""
      ],
      "execution_count": 157,
      "outputs": []
    },
    {
      "cell_type": "markdown",
      "metadata": {
        "id": "5Otk9-BoVd3I"
      },
      "source": [
        "1st Fully Connected Layer : Input = 5x5x16. Output = 120"
      ]
    },
    {
      "cell_type": "code",
      "metadata": {
        "id": "3bpijG2CRT6Y"
      },
      "source": [
        "#1st Fully Connected Layer : Input = 5x5x16. Output = 120\n",
        "Nmodel.add(Dense(512, input_shape=(5,5,16), activation=\"relu\"))\n",
        "\n",
        "#Nmodel.add(BatchNormalization())\n",
        "#Nmodel.add(Activation('relu'))\n",
        "\n",
        "# Adding Dropout to prevent overfitting\n",
        "Nmodel.add(Dropout(0.5))"
      ],
      "execution_count": 158,
      "outputs": []
    },
    {
      "cell_type": "code",
      "metadata": {
        "id": "q6KGK2DIYYgo"
      },
      "source": [
        ""
      ],
      "execution_count": 158,
      "outputs": []
    },
    {
      "cell_type": "markdown",
      "metadata": {
        "id": "efZcArFuX_Y6"
      },
      "source": [
        "2nd Fully Connected Layer : Input = 120. Output = 84"
      ]
    },
    {
      "cell_type": "code",
      "metadata": {
        "id": "z8uRrh9BRT9Y"
      },
      "source": [
        "#2nd Fully Connected Layer : Input = 120. Output = 84\n",
        "Nmodel.add(Dense(1, input_shape=(120,0,0), activation=\"sigmoid\"))\n",
        "\n",
        "#Nmodel.add(BatchNormalization())\n",
        "#Nmodel.add(Activation('relu'))\n",
        "\n",
        "# Adding Dropout to prevent overfitting\n",
        "#Nmodel.add(Dropout(0.4))"
      ],
      "execution_count": 159,
      "outputs": []
    },
    {
      "cell_type": "code",
      "metadata": {
        "id": "5rxzDDncYqIu"
      },
      "source": [
        ""
      ],
      "execution_count": 159,
      "outputs": []
    },
    {
      "cell_type": "markdown",
      "metadata": {
        "id": "jPzpeV3sYq3j"
      },
      "source": [
        " Output Layer : 10"
      ]
    },
    {
      "cell_type": "code",
      "metadata": {
        "id": "5e8D2J9ART_2"
      },
      "source": [
        "#Output Layer: 10\n",
        "Nmodel.add(Dense(10))\n",
        "Nmodel.add(BatchNormalization())\n",
        "Nmodel.add(Activation('softmax'))"
      ],
      "execution_count": 160,
      "outputs": []
    },
    {
      "cell_type": "code",
      "metadata": {
        "id": "RdwKDu1-RUCQ"
      },
      "source": [
        ""
      ],
      "execution_count": 160,
      "outputs": []
    },
    {
      "cell_type": "code",
      "metadata": {
        "colab": {
          "base_uri": "https://localhost:8080/"
        },
        "id": "dHE4ImDzRUFE",
        "outputId": "9a1ff918-0d40-4644-96b9-84e5bcd86a12"
      },
      "source": [
        "#Model Summary\n",
        "Nmodel.summary()"
      ],
      "execution_count": 161,
      "outputs": [
        {
          "output_type": "stream",
          "text": [
            "Model: \"sequential_5\"\n",
            "_________________________________________________________________\n",
            "Layer (type)                 Output Shape              Param #   \n",
            "=================================================================\n",
            "conv2d_20 (Conv2D)           (None, 32, 32, 32)        320       \n",
            "_________________________________________________________________\n",
            "conv2d_21 (Conv2D)           (None, 30, 30, 32)        9248      \n",
            "_________________________________________________________________\n",
            "average_pooling2d_10 (Averag (None, 15, 15, 32)        0         \n",
            "_________________________________________________________________\n",
            "batch_normalization_15 (Batc (None, 15, 15, 32)        128       \n",
            "_________________________________________________________________\n",
            "dropout_15 (Dropout)         (None, 15, 15, 32)        0         \n",
            "_________________________________________________________________\n",
            "conv2d_22 (Conv2D)           (None, 15, 15, 64)        18496     \n",
            "_________________________________________________________________\n",
            "conv2d_23 (Conv2D)           (None, 13, 13, 64)        36928     \n",
            "_________________________________________________________________\n",
            "average_pooling2d_11 (Averag (None, 6, 6, 64)          0         \n",
            "_________________________________________________________________\n",
            "batch_normalization_16 (Batc (None, 6, 6, 64)          256       \n",
            "_________________________________________________________________\n",
            "dropout_16 (Dropout)         (None, 6, 6, 64)          0         \n",
            "_________________________________________________________________\n",
            "flatten_5 (Flatten)          (None, 2304)              0         \n",
            "_________________________________________________________________\n",
            "dense_15 (Dense)             (None, 512)               1180160   \n",
            "_________________________________________________________________\n",
            "dropout_17 (Dropout)         (None, 512)               0         \n",
            "_________________________________________________________________\n",
            "dense_16 (Dense)             (None, 1)                 513       \n",
            "_________________________________________________________________\n",
            "dense_17 (Dense)             (None, 10)                20        \n",
            "_________________________________________________________________\n",
            "batch_normalization_17 (Batc (None, 10)                40        \n",
            "_________________________________________________________________\n",
            "activation_5 (Activation)    (None, 10)                0         \n",
            "=================================================================\n",
            "Total params: 1,246,109\n",
            "Trainable params: 1,245,897\n",
            "Non-trainable params: 212\n",
            "_________________________________________________________________\n"
          ],
          "name": "stdout"
        }
      ]
    },
    {
      "cell_type": "code",
      "metadata": {
        "id": "YkyzV_DWRUHq"
      },
      "source": [
        ""
      ],
      "execution_count": 161,
      "outputs": []
    },
    {
      "cell_type": "markdown",
      "metadata": {
        "id": "ChtZ3WliZ4Ej"
      },
      "source": [
        "To Compile the CNN Model :"
      ]
    },
    {
      "cell_type": "code",
      "metadata": {
        "id": "vXFldZAuZ6M6"
      },
      "source": [
        "# Compiling the model\n",
        "Nmodel.compile(loss = 'binary_crossentropy', optimizer= 'adam', metrics=['accuracy'])"
      ],
      "execution_count": 162,
      "outputs": []
    },
    {
      "cell_type": "code",
      "metadata": {
        "id": "YA3vvS9VZ6zC"
      },
      "source": [
        "#save the trained model to a file so that it can be used to make predictions later :\n",
        "Nmodel.save(\"N_model.h5\")"
      ],
      "execution_count": 163,
      "outputs": []
    },
    {
      "cell_type": "code",
      "metadata": {
        "id": "GaSmneQGZ6tC"
      },
      "source": [
        ""
      ],
      "execution_count": 163,
      "outputs": []
    },
    {
      "cell_type": "markdown",
      "metadata": {
        "id": "WPzueEimahwO"
      },
      "source": [
        "To Load the MNIST  dataset from Keras :"
      ]
    },
    {
      "cell_type": "code",
      "metadata": {
        "id": "yP_t-ItOak0U"
      },
      "source": [
        "#Keras library for MNIST dataset\n",
        "from keras.datasets import mnist\n",
        "\n",
        "(x_train, y_train),(x_test, y_test)=mnist.load_data()"
      ],
      "execution_count": 164,
      "outputs": []
    },
    {
      "cell_type": "code",
      "metadata": {
        "id": "g9N8l4Z3akxy"
      },
      "source": [
        ""
      ],
      "execution_count": 164,
      "outputs": []
    },
    {
      "cell_type": "markdown",
      "metadata": {
        "id": "BQORh6c9byUy"
      },
      "source": [
        "To Train-validate-test split the MNIST dataset on the Model :"
      ]
    },
    {
      "cell_type": "code",
      "metadata": {
        "id": "ehAuuClZaks2"
      },
      "source": [
        "from sklearn.model_selection import train_test_split\n",
        "x_train,x_val,y_train,y_val=train_test_split(x_train,y_train,test_size=0.3,random_state=10)"
      ],
      "execution_count": 165,
      "outputs": []
    },
    {
      "cell_type": "code",
      "metadata": {
        "id": "SCojOUTKakp8"
      },
      "source": [
        ""
      ],
      "execution_count": 165,
      "outputs": []
    },
    {
      "cell_type": "markdown",
      "metadata": {
        "id": "e6AnxLZvcOEU"
      },
      "source": [
        "To Display Sample Input Images :"
      ]
    },
    {
      "cell_type": "code",
      "metadata": {
        "colab": {
          "base_uri": "https://localhost:8080/",
          "height": 268
        },
        "id": "FgKK_IqPakmt",
        "outputId": "a61e3582-8122-4793-de68-a67cfe9b113f"
      },
      "source": [
        "from matplotlib import pyplot\n",
        "subplots = []\n",
        "rows = 3\n",
        "cols = 3\n",
        "for i in range(9):\n",
        "\t# define subplot\n",
        "\tpyplot.subplot(rows, cols, i+1)\n",
        "\t# plot raw pixel data\n",
        "\tpyplot.imshow(x_train[i],cmap=\"gray\")\n",
        "# show the figure\n",
        "pyplot.show()"
      ],
      "execution_count": 166,
      "outputs": [
        {
          "output_type": "display_data",
          "data": {
            "image/png": "[encoded data removed]",
            "text/plain": [
              "<Figure size 432x288 with 9 Axes>"
            ]
          },
          "metadata": {
            "tags": [],
            "needs_background": "light"
          }
        }
      ]
    },
    {
      "cell_type": "code",
      "metadata": {
        "id": "c9kVdRTAakhS"
      },
      "source": [
        ""
      ],
      "execution_count": 166,
      "outputs": []
    },
    {
      "cell_type": "markdown",
      "metadata": {
        "id": "PTZVXXR8ch1T"
      },
      "source": [
        "To Display Sample Output Images :"
      ]
    },
    {
      "cell_type": "code",
      "metadata": {
        "colab": {
          "base_uri": "https://localhost:8080/",
          "height": 268
        },
        "id": "NiFYcAZsakY4",
        "outputId": "33b6657a-aed6-4eca-c26b-375cab60f1c4"
      },
      "source": [
        "from matplotlib import pyplot\n",
        "subplots = []\n",
        "rows1 = 3\n",
        "cols1 = 3\n",
        "for i1 in range(9):\n",
        "\t# define subplot\n",
        "\tpyplot.subplot(rows1, cols1, i1+1)\n",
        "\t# plot raw pixel data\n",
        "\tpyplot.imshow(x_test[i1],cmap=\"gray\")\n",
        "# show the figure\n",
        "pyplot.show()"
      ],
      "execution_count": 167,
      "outputs": [
        {
          "output_type": "display_data",
          "data": {
            "image/png": "[encoded data removed]",
            "text/plain": [
              "<Figure size 432x288 with 9 Axes>"
            ]
          },
          "metadata": {
            "tags": [],
            "needs_background": "light"
          }
        }
      ]
    },
    {
      "cell_type": "code",
      "metadata": {
        "id": "8dZY6tZUc7kA"
      },
      "source": [
        ""
      ],
      "execution_count": 167,
      "outputs": []
    },
    {
      "cell_type": "markdown",
      "metadata": {
        "id": "YC96Xv_kc8uD"
      },
      "source": [
        "To Display the total images in the MNIST dataset :"
      ]
    },
    {
      "cell_type": "code",
      "metadata": {
        "colab": {
          "base_uri": "https://localhost:8080/"
        },
        "id": "aQhPpHCPc-K3",
        "outputId": "48b9535c-386a-4ee0-a75d-b70e3f7fe733"
      },
      "source": [
        "print(y_train.shape)\n",
        "print(y_test.shape)\n",
        "print(y_val.shape)"
      ],
      "execution_count": 168,
      "outputs": [
        {
          "output_type": "stream",
          "text": [
            "(42000,)\n",
            "(10000,)\n",
            "(18000,)\n"
          ],
          "name": "stdout"
        }
      ]
    },
    {
      "cell_type": "code",
      "metadata": {
        "id": "N-0mg5LMZ6qF"
      },
      "source": [
        ""
      ],
      "execution_count": 168,
      "outputs": []
    },
    {
      "cell_type": "markdown",
      "metadata": {
        "id": "0ypFtihBdOkF"
      },
      "source": [
        "To Display the size of the Images in the MNIST dataset :"
      ]
    },
    {
      "cell_type": "code",
      "metadata": {
        "colab": {
          "base_uri": "https://localhost:8080/"
        },
        "id": "SNAohmMgRUKQ",
        "outputId": "55f4f0b6-c595-4720-e984-fa4926a1d7a2"
      },
      "source": [
        "#Dimension of the CIFAR10 dataset\n",
        "print((x_train.shape,y_train.shape))\n",
        "print((x_test.shape,y_test.shape))\n",
        "print((x_val.shape,y_val.shape))"
      ],
      "execution_count": 169,
      "outputs": [
        {
          "output_type": "stream",
          "text": [
            "((42000, 28, 28), (42000,))\n",
            "((10000, 28, 28), (10000,))\n",
            "((18000, 28, 28), (18000,))\n"
          ],
          "name": "stdout"
        }
      ]
    },
    {
      "cell_type": "code",
      "metadata": {
        "id": "viuwtRxlRUM-"
      },
      "source": [
        ""
      ],
      "execution_count": 169,
      "outputs": []
    },
    {
      "cell_type": "markdown",
      "metadata": {
        "id": "M9xyQtqxdWPT"
      },
      "source": [
        "To Display the no of classes in the MNIST dataset :"
      ]
    },
    {
      "cell_type": "code",
      "metadata": {
        "colab": {
          "base_uri": "https://localhost:8080/"
        },
        "id": "IdXa4sa9dW82",
        "outputId": "3dcac804-07f4-4c71-f60b-c32ea7627805"
      },
      "source": [
        "classes = np.unique(y_train)\n",
        "nClasses = len(classes)\n",
        "print('Total number of outputs : ', nClasses)\n",
        "print(\" \")\n",
        "print('Output classes : ', classes)"
      ],
      "execution_count": 170,
      "outputs": [
        {
          "output_type": "stream",
          "text": [
            "Total number of outputs :  10\n",
            " \n",
            "Output classes :  [0 1 2 3 4 5 6 7 8 9]\n"
          ],
          "name": "stdout"
        }
      ]
    },
    {
      "cell_type": "code",
      "metadata": {
        "id": "5mRxonHpt8lg"
      },
      "source": [
        ""
      ],
      "execution_count": 170,
      "outputs": []
    },
    {
      "cell_type": "code",
      "metadata": {
        "colab": {
          "base_uri": "https://localhost:8080/",
          "height": 283
        },
        "id": "sXE0CoIPdXW9",
        "outputId": "3e262d9b-ca93-49b0-bd91-f5b9d37c83bb"
      },
      "source": [
        "import matplotlib.pyplot as plt\n",
        "plt.imshow(x_test[8],cmap='gray')\n",
        "plt.show()\n",
        "\n",
        "print(\"Label : \", y_test[8])"
      ],
      "execution_count": 171,
      "outputs": [
        {
          "output_type": "display_data",
          "data": {
            "image/png": "[encoded data removed]",
            "text/plain": [
              "<Figure size 432x288 with 1 Axes>"
            ]
          },
          "metadata": {
            "tags": [],
            "needs_background": "light"
          }
        },
        {
          "output_type": "stream",
          "text": [
            "Label :  5\n"
          ],
          "name": "stdout"
        }
      ]
    },
    {
      "cell_type": "code",
      "metadata": {
        "colab": {
          "base_uri": "https://localhost:8080/",
          "height": 283
        },
        "id": "rVdlPWq-RUPy",
        "outputId": "49c88dad-f449-4635-8e26-e52d07ce81af"
      },
      "source": [
        "import matplotlib.pyplot as plt\n",
        "plt.imshow(x_test[5],cmap='gray')\n",
        "plt.show()\n",
        "\n",
        "print(\"Label : \", y_test[5])"
      ],
      "execution_count": 172,
      "outputs": [
        {
          "output_type": "display_data",
          "data": {
            "image/png": "[encoded data removed]",
            "text/plain": [
              "<Figure size 432x288 with 1 Axes>"
            ]
          },
          "metadata": {
            "tags": [],
            "needs_background": "light"
          }
        },
        {
          "output_type": "stream",
          "text": [
            "Label :  1\n"
          ],
          "name": "stdout"
        }
      ]
    },
    {
      "cell_type": "code",
      "metadata": {
        "colab": {
          "base_uri": "https://localhost:8080/",
          "height": 283
        },
        "id": "I1VlebJ5RUSs",
        "outputId": "551b7515-a6d5-4cf9-bba5-01a0495e641c"
      },
      "source": [
        "import matplotlib.pyplot as plt\n",
        "plt.imshow(x_test[1],cmap='gray')\n",
        "plt.show()\n",
        "\n",
        "print(\"Label : \", y_test[1])"
      ],
      "execution_count": 173,
      "outputs": [
        {
          "output_type": "display_data",
          "data": {
            "image/png": "[encoded data removed]",
            "text/plain": [
              "<Figure size 432x288 with 1 Axes>"
            ]
          },
          "metadata": {
            "tags": [],
            "needs_background": "light"
          }
        },
        {
          "output_type": "stream",
          "text": [
            "Label :  2\n"
          ],
          "name": "stdout"
        }
      ]
    },
    {
      "cell_type": "code",
      "metadata": {
        "colab": {
          "base_uri": "https://localhost:8080/",
          "height": 283
        },
        "id": "lmolJllIRUUs",
        "outputId": "0fcb2678-c7f2-46a9-9c85-e5ee12b449bd"
      },
      "source": [
        "import matplotlib.pyplot as plt\n",
        "plt.imshow(x_test[3],cmap='gray')\n",
        "plt.show()\n",
        "\n",
        "print(\"Label : \", y_test[3])"
      ],
      "execution_count": 174,
      "outputs": [
        {
          "output_type": "display_data",
          "data": {
            "image/png": "[encoded data removed]",
            "text/plain": [
              "<Figure size 432x288 with 1 Axes>"
            ]
          },
          "metadata": {
            "tags": [],
            "needs_background": "light"
          }
        },
        {
          "output_type": "stream",
          "text": [
            "Label :  0\n"
          ],
          "name": "stdout"
        }
      ]
    },
    {
      "cell_type": "code",
      "metadata": {
        "colab": {
          "base_uri": "https://localhost:8080/",
          "height": 283
        },
        "id": "U3Ec5i5oRUXI",
        "outputId": "b83b4217-fda4-404f-9960-fdb5d2373e5c"
      },
      "source": [
        "import matplotlib.pyplot as plt\n",
        "plt.imshow(x_test[15],cmap='gray')\n",
        "plt.show()\n",
        "\n",
        "print(\"Label : \", y_test[15])"
      ],
      "execution_count": 175,
      "outputs": [
        {
          "output_type": "display_data",
          "data": {
            "image/png": "[encoded data removed]",
            "text/plain": [
              "<Figure size 432x288 with 1 Axes>"
            ]
          },
          "metadata": {
            "tags": [],
            "needs_background": "light"
          }
        },
        {
          "output_type": "stream",
          "text": [
            "Label :  5\n"
          ],
          "name": "stdout"
        }
      ]
    },
    {
      "cell_type": "code",
      "metadata": {
        "id": "JcGyl4hqeArb"
      },
      "source": [
        ""
      ],
      "execution_count": 175,
      "outputs": []
    }
  ]
}