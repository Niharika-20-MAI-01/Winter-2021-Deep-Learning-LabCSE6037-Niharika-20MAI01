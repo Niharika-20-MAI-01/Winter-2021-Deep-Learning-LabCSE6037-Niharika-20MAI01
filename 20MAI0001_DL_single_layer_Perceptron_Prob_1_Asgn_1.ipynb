{
  "nbformat": 4,
  "nbformat_minor": 0,
  "metadata": {
    "colab": {
      "name": "20MAI0001_DL-single_layer_Perceptron_Prob-1_Asgn-1.ipynb",
      "provenance": [],
      "collapsed_sections": [],
      "authorship_tag": "ABX9TyM+nPQFbbkWBk9eslbQI8/C",
      "include_colab_link": true
    },
    "kernelspec": {
      "name": "python3",
      "display_name": "Python 3"
    },
    "accelerator": "GPU"
  },
  "cells": [
    {
      "cell_type": "markdown",
      "metadata": {
        "id": "view-in-github",
        "colab_type": "text"
      },
      "source": [
        "<a href=\"https://colab.research.google.com/github/Niharika-20-MAI-01/Winter-2021-Deep-Learning-LabCSE6037-Niharika-20MAI01/blob/main/20MAI0001_DL_single_layer_Perceptron_Prob_1_Asgn_1.ipynb\" target=\"_parent\"><img src=\"https://colab.research.google.com/assets/colab-badge.svg\" alt=\"Open In Colab\"/></a>"
      ]
    },
    {
      "cell_type": "markdown",
      "metadata": {
        "id": "GpC2IIXHOGWi"
      },
      "source": [
        "DL-Lab-CSE6037_Lab-Assignment-1_Problem-1_SLP\r\n",
        "\r\n",
        "Submitted By: 20MAI0001 - NIHARIKA MAITRA\r\n",
        "\r\n",
        "git Repo Link :  https://github.com/Niharika-20-MAI-01/Winter-2021-Deep-Learning-LabCSE6037-Niharika-20MAI01/blob/main/20MAI0001_DL_single_layer_Perceptron_Prob_1_Asgn_1.ipynb"
      ]
    },
    {
      "cell_type": "code",
      "metadata": {
        "id": "E02fmFehOAjO"
      },
      "source": [
        ""
      ],
      "execution_count": null,
      "outputs": []
    },
    {
      "cell_type": "code",
      "metadata": {
        "id": "r4_E7p3sblZi"
      },
      "source": [
        "import numpy as np\r\n",
        "import pandas as pd\r\n",
        "from sklearn import metrics\r\n",
        "from sklearn.metrics import confusion_matrix\r\n",
        "from sklearn.metrics import classification_report\r\n",
        "from sklearn.metrics import accuracy_score\r\n",
        "from pandas import DataFrame\r\n",
        "from matplotlib import pyplot as pyplot\r\n",
        "from sklearn.linear_model import Perceptron\r\n",
        "\r\n",
        "from sklearn.model_selection import train_test_split"
      ],
      "execution_count": 117,
      "outputs": []
    },
    {
      "cell_type": "code",
      "metadata": {
        "id": "2FaJ8AUaeBt0"
      },
      "source": [
        "Input1 = [[1,0,0,1,0,1,1,0,1,1],[0,1,0,0,0,1,0,1,0,0],[1,1,0,1,0,0,1,1,1,1],[0, \t1, \t0, \t1, \t0, \t1, \t0, \t1, \t0,0],\r\n",
        "         [1, \t0, \t1, \t0, \t0, \t0, \t1, \t0, \t0,0],[1, \t1, \t1, \t1, \t1, \t1, \t0, \t1, \t1,1],[1, \t1, \t1, \t0, \t1, \t1, \t1, \t1, \t0,1],\r\n",
        "         [0, \t1, \t1, \t0, \t1, \t0, \t0, \t0, \t0,1],[1, \t1, \t0, \t1, \t1, \t1, \t1, \t1, \t1,1],[1, \t0, \t0, \t1, \t1, \t0, \t1, \t0, \t1,1]\r\n",
        "         ]\r\n",
        "#Input2 = [1,0,1,0,0,1,1,0,1,1]\r\n",
        "#Input = zip(Input1,Input2)"
      ],
      "execution_count": 9,
      "outputs": []
    },
    {
      "cell_type": "code",
      "metadata": {
        "id": "4BIWqPrEsoAe"
      },
      "source": [
        "data = pd.DataFrame(Input1)"
      ],
      "execution_count": 12,
      "outputs": []
    },
    {
      "cell_type": "code",
      "metadata": {
        "id": "Att-dITzwFDV"
      },
      "source": [
        "var1 = ['X'+ str(s) for s in range(1,11)]\r\n",
        "data.columns = var1\r\n"
      ],
      "execution_count": 18,
      "outputs": []
    },
    {
      "cell_type": "code",
      "metadata": {
        "colab": {
          "base_uri": "https://localhost:8080/"
        },
        "id": "psjTWGYutn7a",
        "outputId": "a6aa1ff9-a0ac-41d9-bdc7-abdbdc069cd3"
      },
      "source": [
        "print(data.shape)"
      ],
      "execution_count": 19,
      "outputs": [
        {
          "output_type": "stream",
          "text": [
            "(10, 10)\n"
          ],
          "name": "stdout"
        }
      ]
    },
    {
      "cell_type": "code",
      "metadata": {
        "colab": {
          "base_uri": "https://localhost:8080/"
        },
        "id": "PsoXcnaNtOQn",
        "outputId": "a98738df-8f45-43b5-aa9f-f29462714c4e"
      },
      "source": [
        "print(data.head())"
      ],
      "execution_count": 20,
      "outputs": [
        {
          "output_type": "stream",
          "text": [
            "   X1  X2  X3  X4  X5  X6  X7  X8  X9  X10\n",
            "0   1   0   0   1   0   1   1   0   1    1\n",
            "1   0   1   0   0   0   1   0   1   0    0\n",
            "2   1   1   0   1   0   0   1   1   1    1\n",
            "3   0   1   0   1   0   1   0   1   0    0\n",
            "4   1   0   1   0   0   0   1   0   0    0\n"
          ],
          "name": "stdout"
        }
      ]
    },
    {
      "cell_type": "code",
      "metadata": {
        "colab": {
          "base_uri": "https://localhost:8080/"
        },
        "id": "AlYd4nEdtOI-",
        "outputId": "25add930-ec7f-481f-e26d-6c9cd69ce4bc"
      },
      "source": [
        "print(data.tail())"
      ],
      "execution_count": 21,
      "outputs": [
        {
          "output_type": "stream",
          "text": [
            "   X1  X2  X3  X4  X5  X6  X7  X8  X9  X10\n",
            "5   1   1   1   1   1   1   0   1   1    1\n",
            "6   1   1   1   0   1   1   1   1   0    1\n",
            "7   0   1   1   0   1   0   0   0   0    1\n",
            "8   1   1   0   1   1   1   1   1   1    1\n",
            "9   1   0   0   1   1   0   1   0   1    1\n"
          ],
          "name": "stdout"
        }
      ]
    },
    {
      "cell_type": "code",
      "metadata": {
        "colab": {
          "base_uri": "https://localhost:8080/"
        },
        "id": "2_wFZDDGtN__",
        "outputId": "b4e4d34d-d280-431b-adae-6f5c4458683e"
      },
      "source": [
        "print(data)"
      ],
      "execution_count": 22,
      "outputs": [
        {
          "output_type": "stream",
          "text": [
            "   X1  X2  X3  X4  X5  X6  X7  X8  X9  X10\n",
            "0   1   0   0   1   0   1   1   0   1    1\n",
            "1   0   1   0   0   0   1   0   1   0    0\n",
            "2   1   1   0   1   0   0   1   1   1    1\n",
            "3   0   1   0   1   0   1   0   1   0    0\n",
            "4   1   0   1   0   0   0   1   0   0    0\n",
            "5   1   1   1   1   1   1   0   1   1    1\n",
            "6   1   1   1   0   1   1   1   1   0    1\n",
            "7   0   1   1   0   1   0   0   0   0    1\n",
            "8   1   1   0   1   1   1   1   1   1    1\n",
            "9   1   0   0   1   1   0   1   0   1    1\n"
          ],
          "name": "stdout"
        }
      ]
    },
    {
      "cell_type": "code",
      "metadata": {
        "id": "H7V5iGNYeCpT"
      },
      "source": [
        "X = data[['X1','X2','X3','X4','X5','X6','X7','X8','X9']]\r\n",
        "Y = data['X10']\r\n"
      ],
      "execution_count": 33,
      "outputs": []
    },
    {
      "cell_type": "code",
      "metadata": {
        "colab": {
          "base_uri": "https://localhost:8080/",
          "height": 363
        },
        "id": "b6Kf0dh9eCyd",
        "outputId": "ea4d5311-6322-46f7-857b-97376d110000"
      },
      "source": [
        "X"
      ],
      "execution_count": 34,
      "outputs": [
        {
          "output_type": "execute_result",
          "data": {
            "text/html": [
              "<div>\n",
              "<style scoped>\n",
              "    .dataframe tbody tr th:only-of-type {\n",
              "        vertical-align: middle;\n",
              "    }\n",
              "\n",
              "    .dataframe tbody tr th {\n",
              "        vertical-align: top;\n",
              "    }\n",
              "\n",
              "    .dataframe thead th {\n",
              "        text-align: right;\n",
              "    }\n",
              "</style>\n",
              "<table border=\"1\" class=\"dataframe\">\n",
              "  <thead>\n",
              "    <tr style=\"text-align: right;\">\n",
              "      <th></th>\n",
              "      <th>X1</th>\n",
              "      <th>X2</th>\n",
              "      <th>X3</th>\n",
              "      <th>X4</th>\n",
              "      <th>X5</th>\n",
              "      <th>X6</th>\n",
              "      <th>X7</th>\n",
              "      <th>X8</th>\n",
              "      <th>X9</th>\n",
              "    </tr>\n",
              "  </thead>\n",
              "  <tbody>\n",
              "    <tr>\n",
              "      <th>0</th>\n",
              "      <td>1</td>\n",
              "      <td>0</td>\n",
              "      <td>0</td>\n",
              "      <td>1</td>\n",
              "      <td>0</td>\n",
              "      <td>1</td>\n",
              "      <td>1</td>\n",
              "      <td>0</td>\n",
              "      <td>1</td>\n",
              "    </tr>\n",
              "    <tr>\n",
              "      <th>1</th>\n",
              "      <td>0</td>\n",
              "      <td>1</td>\n",
              "      <td>0</td>\n",
              "      <td>0</td>\n",
              "      <td>0</td>\n",
              "      <td>1</td>\n",
              "      <td>0</td>\n",
              "      <td>1</td>\n",
              "      <td>0</td>\n",
              "    </tr>\n",
              "    <tr>\n",
              "      <th>2</th>\n",
              "      <td>1</td>\n",
              "      <td>1</td>\n",
              "      <td>0</td>\n",
              "      <td>1</td>\n",
              "      <td>0</td>\n",
              "      <td>0</td>\n",
              "      <td>1</td>\n",
              "      <td>1</td>\n",
              "      <td>1</td>\n",
              "    </tr>\n",
              "    <tr>\n",
              "      <th>3</th>\n",
              "      <td>0</td>\n",
              "      <td>1</td>\n",
              "      <td>0</td>\n",
              "      <td>1</td>\n",
              "      <td>0</td>\n",
              "      <td>1</td>\n",
              "      <td>0</td>\n",
              "      <td>1</td>\n",
              "      <td>0</td>\n",
              "    </tr>\n",
              "    <tr>\n",
              "      <th>4</th>\n",
              "      <td>1</td>\n",
              "      <td>0</td>\n",
              "      <td>1</td>\n",
              "      <td>0</td>\n",
              "      <td>0</td>\n",
              "      <td>0</td>\n",
              "      <td>1</td>\n",
              "      <td>0</td>\n",
              "      <td>0</td>\n",
              "    </tr>\n",
              "    <tr>\n",
              "      <th>5</th>\n",
              "      <td>1</td>\n",
              "      <td>1</td>\n",
              "      <td>1</td>\n",
              "      <td>1</td>\n",
              "      <td>1</td>\n",
              "      <td>1</td>\n",
              "      <td>0</td>\n",
              "      <td>1</td>\n",
              "      <td>1</td>\n",
              "    </tr>\n",
              "    <tr>\n",
              "      <th>6</th>\n",
              "      <td>1</td>\n",
              "      <td>1</td>\n",
              "      <td>1</td>\n",
              "      <td>0</td>\n",
              "      <td>1</td>\n",
              "      <td>1</td>\n",
              "      <td>1</td>\n",
              "      <td>1</td>\n",
              "      <td>0</td>\n",
              "    </tr>\n",
              "    <tr>\n",
              "      <th>7</th>\n",
              "      <td>0</td>\n",
              "      <td>1</td>\n",
              "      <td>1</td>\n",
              "      <td>0</td>\n",
              "      <td>1</td>\n",
              "      <td>0</td>\n",
              "      <td>0</td>\n",
              "      <td>0</td>\n",
              "      <td>0</td>\n",
              "    </tr>\n",
              "    <tr>\n",
              "      <th>8</th>\n",
              "      <td>1</td>\n",
              "      <td>1</td>\n",
              "      <td>0</td>\n",
              "      <td>1</td>\n",
              "      <td>1</td>\n",
              "      <td>1</td>\n",
              "      <td>1</td>\n",
              "      <td>1</td>\n",
              "      <td>1</td>\n",
              "    </tr>\n",
              "    <tr>\n",
              "      <th>9</th>\n",
              "      <td>1</td>\n",
              "      <td>0</td>\n",
              "      <td>0</td>\n",
              "      <td>1</td>\n",
              "      <td>1</td>\n",
              "      <td>0</td>\n",
              "      <td>1</td>\n",
              "      <td>0</td>\n",
              "      <td>1</td>\n",
              "    </tr>\n",
              "  </tbody>\n",
              "</table>\n",
              "</div>"
            ],
            "text/plain": [
              "   X1  X2  X3  X4  X5  X6  X7  X8  X9\n",
              "0   1   0   0   1   0   1   1   0   1\n",
              "1   0   1   0   0   0   1   0   1   0\n",
              "2   1   1   0   1   0   0   1   1   1\n",
              "3   0   1   0   1   0   1   0   1   0\n",
              "4   1   0   1   0   0   0   1   0   0\n",
              "5   1   1   1   1   1   1   0   1   1\n",
              "6   1   1   1   0   1   1   1   1   0\n",
              "7   0   1   1   0   1   0   0   0   0\n",
              "8   1   1   0   1   1   1   1   1   1\n",
              "9   1   0   0   1   1   0   1   0   1"
            ]
          },
          "metadata": {
            "tags": []
          },
          "execution_count": 34
        }
      ]
    },
    {
      "cell_type": "code",
      "metadata": {
        "colab": {
          "base_uri": "https://localhost:8080/"
        },
        "id": "0qc3-o3FeC1U",
        "outputId": "c6b2f9ea-53d9-4735-b94f-60a57156ecaf"
      },
      "source": [
        "Y"
      ],
      "execution_count": 35,
      "outputs": [
        {
          "output_type": "execute_result",
          "data": {
            "text/plain": [
              "0    1\n",
              "1    0\n",
              "2    1\n",
              "3    0\n",
              "4    0\n",
              "5    1\n",
              "6    1\n",
              "7    1\n",
              "8    1\n",
              "9    1\n",
              "Name: X10, dtype: int64"
            ]
          },
          "metadata": {
            "tags": []
          },
          "execution_count": 35
        }
      ]
    },
    {
      "cell_type": "markdown",
      "metadata": {
        "id": "EvaIMEuCyS31"
      },
      "source": [
        "Trai Test split"
      ]
    },
    {
      "cell_type": "code",
      "metadata": {
        "colab": {
          "base_uri": "https://localhost:8080/"
        },
        "id": "mimaT4XeeC3y",
        "outputId": "1214ee97-c301-4188-ca2c-fdb0b7916199"
      },
      "source": [
        "X_train, X_test, Y_train, Y_test = train_test_split(X,Y,test_size=0.2,stratify=Y,random_state=1)\r\n",
        "print(Y_train.shape,Y_test.shape,Y.shape)"
      ],
      "execution_count": 185,
      "outputs": [
        {
          "output_type": "stream",
          "text": [
            "(8,) (2,) (10,)\n"
          ],
          "name": "stdout"
        }
      ]
    },
    {
      "cell_type": "code",
      "metadata": {
        "id": "KCeW1pi6x27c"
      },
      "source": [
        "X_train = X_train.values\r\n",
        "X_test = X_test.values"
      ],
      "execution_count": 186,
      "outputs": []
    },
    {
      "cell_type": "code",
      "metadata": {
        "colab": {
          "base_uri": "https://localhost:8080/"
        },
        "id": "V8ZcERL_x3N9",
        "outputId": "765b9eba-98d8-471c-c7e6-5d5bef39ac49"
      },
      "source": [
        "type(X_train)\r\n",
        "type(X_test)"
      ],
      "execution_count": 187,
      "outputs": [
        {
          "output_type": "execute_result",
          "data": {
            "text/plain": [
              "numpy.ndarray"
            ]
          },
          "metadata": {
            "tags": []
          },
          "execution_count": 187
        }
      ]
    },
    {
      "cell_type": "code",
      "metadata": {
        "colab": {
          "base_uri": "https://localhost:8080/"
        },
        "id": "8sn8a6NWx3RX",
        "outputId": "4509d914-8e55-4ea0-e972-92c5b05c9560"
      },
      "source": [
        "b=4\r\n",
        "\r\n",
        "from random import randint\r\n",
        "i = randint(0,X_train.shape[0])\r\n",
        "\r\n",
        "# Building the logic for our ML classification Model with the training data as input feeding into it \r\n",
        "if(np.sum(X_train[i,:])>b):\r\n",
        "    print(1)\r\n",
        "else:\r\n",
        "    print(0)\r\n",
        "    \r\n",
        "#Building the logic to check whether Model Prediction of Label is same and accurate to the Target Variable Value for particular Feature Vector(X)    \r\n",
        "if(Y_train[i]==1):\r\n",
        "    print(1)\r\n",
        "else:\r\n",
        "    print(0)"
      ],
      "execution_count": 189,
      "outputs": [
        {
          "output_type": "stream",
          "text": [
            "1\n",
            "1\n"
          ],
          "name": "stdout"
        }
      ]
    },
    {
      "cell_type": "code",
      "metadata": {
        "colab": {
          "base_uri": "https://localhost:8080/"
        },
        "id": "IM1jy6A5x3Wn",
        "outputId": "b87658a7-6908-4c3b-b2c9-100334b57d69"
      },
      "source": [
        "#Training accuracy\r\n",
        "for b in range(X_train.shape[1]+1):\r\n",
        "    accurate_rows = 0\r\n",
        "    y_pred = 0\r\n",
        "    for x,y in zip(X_train, Y_train):\r\n",
        "        y_pred = (np.sum(x)>b)\r\n",
        "        accurate_rows+= (y == y_pred)\r\n",
        "  \r\n",
        "    print('For b= ',b ,'on training set, Accurate rows: ', accurate_rows , 'Accuracy= ',accurate_rows/X_train.shape[0])"
      ],
      "execution_count": 190,
      "outputs": [
        {
          "output_type": "stream",
          "text": [
            "For b=  0 on training set, Accurate rows:  6 Accuracy=  0.75\n",
            "For b=  1 on training set, Accurate rows:  6 Accuracy=  0.75\n",
            "For b=  2 on training set, Accurate rows:  6 Accuracy=  0.75\n",
            "For b=  3 on training set, Accurate rows:  8 Accuracy=  1.0\n",
            "For b=  4 on training set, Accurate rows:  8 Accuracy=  1.0\n",
            "For b=  5 on training set, Accurate rows:  6 Accuracy=  0.75\n",
            "For b=  6 on training set, Accurate rows:  5 Accuracy=  0.625\n",
            "For b=  7 on training set, Accurate rows:  4 Accuracy=  0.5\n",
            "For b=  8 on training set, Accurate rows:  2 Accuracy=  0.25\n",
            "For b=  9 on training set, Accurate rows:  2 Accuracy=  0.25\n"
          ],
          "name": "stdout"
        }
      ]
    },
    {
      "cell_type": "code",
      "metadata": {
        "colab": {
          "base_uri": "https://localhost:8080/"
        },
        "id": "qOHrLSt_SuTN",
        "outputId": "60f834fa-77b1-4cc1-ffcf-83a3d3f8d31b"
      },
      "source": [
        "X_test"
      ],
      "execution_count": 192,
      "outputs": [
        {
          "output_type": "execute_result",
          "data": {
            "text/plain": [
              "array([[0, 1, 1, 0, 1, 0, 0, 0, 0],\n",
              "       [0, 1, 0, 1, 0, 1, 0, 1, 0]])"
            ]
          },
          "metadata": {
            "tags": []
          },
          "execution_count": 192
        }
      ]
    },
    {
      "cell_type": "code",
      "metadata": {
        "colab": {
          "base_uri": "https://localhost:8080/"
        },
        "id": "bDTP9pf7St8e",
        "outputId": "1c61db7e-25d5-4f6a-a1d1-e57184ecf104"
      },
      "source": [
        "Y_test"
      ],
      "execution_count": 193,
      "outputs": [
        {
          "output_type": "execute_result",
          "data": {
            "text/plain": [
              "7    1\n",
              "3    0\n",
              "Name: X10, dtype: int64"
            ]
          },
          "metadata": {
            "tags": []
          },
          "execution_count": 193
        }
      ]
    },
    {
      "cell_type": "code",
      "metadata": {
        "colab": {
          "base_uri": "https://localhost:8080/"
        },
        "id": "0Y9v_WgYx3Zq",
        "outputId": "8c934955-1eb8-4b6a-8900-9d67c81696fe"
      },
      "source": [
        "#Training  Accuracy\r\n",
        "acc_rows=0\r\n",
        "t=X_test.shape[0]\r\n",
        "b=1\r\n",
        "pred=[]\r\n",
        "for x,y in zip(X_test, Y_test):\r\n",
        "        y_pred1 = (np.sum(x)>b)\r\n",
        "        print(y_pred1)\r\n",
        "        acc_rows+= (y == y_pred1)\r\n",
        "        if(y_pred1==1):\r\n",
        "          pred.append(1)\r\n",
        "        else:\r\n",
        "          pred.append(0)\r\n",
        "print(pred)\r\n",
        "print('For b= ',b ,'on testing set, Accurate rows: ', acc_rows , 'Accuracy= ',acc_rows/t)\r\n",
        "\r\n",
        "\r\n"
      ],
      "execution_count": 204,
      "outputs": [
        {
          "output_type": "stream",
          "text": [
            "True\n",
            "True\n",
            "[1, 1]\n",
            "For b=  1 on testing set, Accurate rows:  1 Accuracy=  0.5\n"
          ],
          "name": "stdout"
        }
      ]
    },
    {
      "cell_type": "code",
      "metadata": {
        "colab": {
          "base_uri": "https://localhost:8080/"
        },
        "id": "qbqJAkGBReM4",
        "outputId": "9c68e511-efdc-45d3-9943-aa41d2246e6a"
      },
      "source": [
        "Y_test"
      ],
      "execution_count": 205,
      "outputs": [
        {
          "output_type": "execute_result",
          "data": {
            "text/plain": [
              "7    1\n",
              "3    0\n",
              "Name: X10, dtype: int64"
            ]
          },
          "metadata": {
            "tags": []
          },
          "execution_count": 205
        }
      ]
    },
    {
      "cell_type": "code",
      "metadata": {
        "colab": {
          "base_uri": "https://localhost:8080/"
        },
        "id": "E9LXB1K4ReEt",
        "outputId": "8db6d42e-9ac7-4a76-b41c-b6f5ff014c15"
      },
      "source": [
        "pred"
      ],
      "execution_count": 206,
      "outputs": [
        {
          "output_type": "execute_result",
          "data": {
            "text/plain": [
              "[1, 1]"
            ]
          },
          "metadata": {
            "tags": []
          },
          "execution_count": 206
        }
      ]
    },
    {
      "cell_type": "code",
      "metadata": {
        "colab": {
          "base_uri": "https://localhost:8080/"
        },
        "id": "HJb51jwHx3cj",
        "outputId": "92583bb3-0d0d-4490-b51f-5fc824763918"
      },
      "source": [
        "from sklearn import metrics\r\n",
        "from sklearn.metrics import confusion_matrix\r\n",
        "print(metrics.confusion_matrix(Y_test,pred))"
      ],
      "execution_count": 207,
      "outputs": [
        {
          "output_type": "stream",
          "text": [
            "[[0 1]\n",
            " [0 1]]\n"
          ],
          "name": "stdout"
        }
      ]
    },
    {
      "cell_type": "code",
      "metadata": {
        "colab": {
          "base_uri": "https://localhost:8080/"
        },
        "id": "8sFs7wgQVgbW",
        "outputId": "d34e2833-721e-400c-d67f-914ba97480ac"
      },
      "source": [
        "from sklearn.metrics import accuracy_score\r\n",
        "print(metrics.accuracy_score(Y_test,pred))"
      ],
      "execution_count": 208,
      "outputs": [
        {
          "output_type": "stream",
          "text": [
            "0.5\n"
          ],
          "name": "stdout"
        }
      ]
    },
    {
      "cell_type": "code",
      "metadata": {
        "colab": {
          "base_uri": "https://localhost:8080/"
        },
        "id": "6nuwyAsQx3fa",
        "outputId": "cb4977b9-ca28-4cd4-f95d-d572e938ecb5"
      },
      "source": [
        "print(classification_report(Y_test,pred))\r\n",
        "\r\n"
      ],
      "execution_count": 209,
      "outputs": [
        {
          "output_type": "stream",
          "text": [
            "              precision    recall  f1-score   support\n",
            "\n",
            "           0       0.00      0.00      0.00         1\n",
            "           1       0.50      1.00      0.67         1\n",
            "\n",
            "    accuracy                           0.50         2\n",
            "   macro avg       0.25      0.50      0.33         2\n",
            "weighted avg       0.25      0.50      0.33         2\n",
            "\n"
          ],
          "name": "stdout"
        },
        {
          "output_type": "stream",
          "text": [
            "/usr/local/lib/python3.7/dist-packages/sklearn/metrics/_classification.py:1272: UndefinedMetricWarning: Precision and F-score are ill-defined and being set to 0.0 in labels with no predicted samples. Use `zero_division` parameter to control this behavior.\n",
            "  _warn_prf(average, modifier, msg_start, len(result))\n"
          ],
          "name": "stderr"
        }
      ]
    },
    {
      "cell_type": "code",
      "metadata": {
        "id": "V_LmvYYwYI0a"
      },
      "source": [
        "#Training  Accuracy=  0.7\r\n",
        "#Testing Accuracy=  0.5 "
      ],
      "execution_count": null,
      "outputs": []
    },
    {
      "cell_type": "code",
      "metadata": {
        "id": "UVlJU_7jx3h6"
      },
      "source": [
        ""
      ],
      "execution_count": 209,
      "outputs": []
    },
    {
      "cell_type": "code",
      "metadata": {
        "id": "wyHrnr17x3k5"
      },
      "source": [
        ""
      ],
      "execution_count": null,
      "outputs": []
    },
    {
      "cell_type": "code",
      "metadata": {
        "id": "UT_wzFg7x3n_"
      },
      "source": [
        ""
      ],
      "execution_count": null,
      "outputs": []
    }
  ]
}