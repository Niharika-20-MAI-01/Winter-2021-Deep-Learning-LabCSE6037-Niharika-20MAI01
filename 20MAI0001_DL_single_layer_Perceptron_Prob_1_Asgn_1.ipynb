{
  "nbformat": 4,
  "nbformat_minor": 0,
  "metadata": {
    "colab": {
      "name": "20MAI0001_DL-single_layer_Perceptron_Prob-1_Asgn-1.ipynb",
      "provenance": [],
      "collapsed_sections": [],
      "authorship_tag": "ABX9TyOElbC9P5sAC+2m+z/IDSrL",
      "include_colab_link": true
    },
    "kernelspec": {
      "name": "python3",
      "display_name": "Python 3"
    },
    "accelerator": "GPU"
  },
  "cells": [
    {
      "cell_type": "markdown",
      "metadata": {
        "id": "view-in-github",
        "colab_type": "text"
      },
      "source": [
        "<a href=\"https://colab.research.google.com/github/Niharika-20-MAI-01/Winter-2021-Deep-Learning-LabCSE6037-Niharika-20MAI01/blob/main/20MAI0001_DL_single_layer_Perceptron_Prob_1_Asgn_1.ipynb\" target=\"_parent\"><img src=\"https://colab.research.google.com/assets/colab-badge.svg\" alt=\"Open In Colab\"/></a>"
      ]
    },
    {
      "cell_type": "markdown",
      "metadata": {
        "id": "GpC2IIXHOGWi"
      },
      "source": [
        "DL-Lab-CSE6037_Lab-Assignment-1_Problem-1_SLP\r\n",
        "\r\n",
        "Submitted By: 20MAI0001 - NIHARIKA MAITRA\r\n",
        "\r\n",
        "git Repo Link :  https://github.com/Niharika-20-MAI-01/Winter-2021-Deep-Learning-LabCSE6037-Niharika-20MAI01/blob/main/20MAI0001_DL_single_layer_Perceptron_Prob_1_Asgn_1.ipynb"
      ]
    },
    {
      "cell_type": "markdown",
      "metadata": {
        "id": "U4yFDAXLFfQQ"
      },
      "source": [
        "Implementing Single Layer Perceptron"
      ]
    },
    {
      "cell_type": "code",
      "metadata": {
        "id": "E02fmFehOAjO"
      },
      "source": [
        ""
      ],
      "execution_count": 1,
      "outputs": []
    },
    {
      "cell_type": "code",
      "metadata": {
        "id": "r4_E7p3sblZi"
      },
      "source": [
        "import numpy as np\r\n",
        "import pandas as pd\r\n",
        "from sklearn import metrics\r\n",
        "from sklearn.metrics import confusion_matrix\r\n",
        "from sklearn.metrics import classification_report\r\n",
        "from sklearn.metrics import accuracy_score\r\n",
        "from pandas import DataFrame\r\n",
        "from matplotlib import pyplot as pyplot\r\n",
        "from sklearn.linear_model import Perceptron\r\n",
        "\r\n",
        "from sklearn.model_selection import train_test_split"
      ],
      "execution_count": null,
      "outputs": []
    },
    {
      "cell_type": "code",
      "metadata": {
        "id": "2FaJ8AUaeBt0"
      },
      "source": [
        "Input1 = [[1,0,0,1,0,1,1,0,1,1],[0,1,0,0,0,1,0,1,0,0],[1,1,0,1,0,0,1,1,1,1],[0, \t1, \t0, \t1, \t0, \t1, \t0, \t1, \t0,0],\r\n",
        "         [1, \t0, \t1, \t0, \t0, \t0, \t1, \t0, \t0,0],[1, \t1, \t1, \t1, \t1, \t1, \t0, \t1, \t1,1],[1, \t1, \t1, \t0, \t1, \t1, \t1, \t1, \t0,1],\r\n",
        "         [0, \t1, \t1, \t0, \t1, \t0, \t0, \t0, \t0,1],[1, \t1, \t0, \t1, \t1, \t1, \t1, \t1, \t1,1],[1, \t0, \t0, \t1, \t1, \t0, \t1, \t0, \t1,1]\r\n",
        "         ]\r\n",
        "#Input2 = [1,0,1,0,0,1,1,0,1,1]\r\n",
        "#Input = zip(Input1,Input2)"
      ],
      "execution_count": null,
      "outputs": []
    },
    {
      "cell_type": "code",
      "metadata": {
        "id": "4BIWqPrEsoAe"
      },
      "source": [
        "data = pd.DataFrame(Input1)"
      ],
      "execution_count": null,
      "outputs": []
    },
    {
      "cell_type": "code",
      "metadata": {
        "id": "Att-dITzwFDV"
      },
      "source": [
        "var1 = ['X'+ str(s) for s in range(1,11)]\r\n",
        "data.columns = var1\r\n"
      ],
      "execution_count": null,
      "outputs": []
    },
    {
      "cell_type": "code",
      "metadata": {
        "colab": {
          "base_uri": "https://localhost:8080/"
        },
        "id": "psjTWGYutn7a",
        "outputId": "852d0485-512f-4c8d-8481-269a966f2b25"
      },
      "source": [
        "print(data.shape)"
      ],
      "execution_count": null,
      "outputs": [
        {
          "output_type": "stream",
          "text": [
            "(10, 10)\n"
          ],
          "name": "stdout"
        }
      ]
    },
    {
      "cell_type": "code",
      "metadata": {
        "colab": {
          "base_uri": "https://localhost:8080/"
        },
        "id": "PsoXcnaNtOQn",
        "outputId": "ccfb1d11-74d0-4934-e464-ffd80473895e"
      },
      "source": [
        "print(data.head())"
      ],
      "execution_count": null,
      "outputs": [
        {
          "output_type": "stream",
          "text": [
            "   X1  X2  X3  X4  X5  X6  X7  X8  X9  X10\n",
            "0   1   0   0   1   0   1   1   0   1    1\n",
            "1   0   1   0   0   0   1   0   1   0    0\n",
            "2   1   1   0   1   0   0   1   1   1    1\n",
            "3   0   1   0   1   0   1   0   1   0    0\n",
            "4   1   0   1   0   0   0   1   0   0    0\n"
          ],
          "name": "stdout"
        }
      ]
    },
    {
      "cell_type": "code",
      "metadata": {
        "colab": {
          "base_uri": "https://localhost:8080/"
        },
        "id": "AlYd4nEdtOI-",
        "outputId": "a4571b82-e1ae-4620-b1c5-a1f689613e30"
      },
      "source": [
        "print(data.tail())"
      ],
      "execution_count": null,
      "outputs": [
        {
          "output_type": "stream",
          "text": [
            "   X1  X2  X3  X4  X5  X6  X7  X8  X9  X10\n",
            "5   1   1   1   1   1   1   0   1   1    1\n",
            "6   1   1   1   0   1   1   1   1   0    1\n",
            "7   0   1   1   0   1   0   0   0   0    1\n",
            "8   1   1   0   1   1   1   1   1   1    1\n",
            "9   1   0   0   1   1   0   1   0   1    1\n"
          ],
          "name": "stdout"
        }
      ]
    },
    {
      "cell_type": "code",
      "metadata": {
        "colab": {
          "base_uri": "https://localhost:8080/"
        },
        "id": "2_wFZDDGtN__",
        "outputId": "1665039d-ba42-4024-dd10-978840027bcd"
      },
      "source": [
        "print(data)"
      ],
      "execution_count": null,
      "outputs": [
        {
          "output_type": "stream",
          "text": [
            "   X1  X2  X3  X4  X5  X6  X7  X8  X9  X10\n",
            "0   1   0   0   1   0   1   1   0   1    1\n",
            "1   0   1   0   0   0   1   0   1   0    0\n",
            "2   1   1   0   1   0   0   1   1   1    1\n",
            "3   0   1   0   1   0   1   0   1   0    0\n",
            "4   1   0   1   0   0   0   1   0   0    0\n",
            "5   1   1   1   1   1   1   0   1   1    1\n",
            "6   1   1   1   0   1   1   1   1   0    1\n",
            "7   0   1   1   0   1   0   0   0   0    1\n",
            "8   1   1   0   1   1   1   1   1   1    1\n",
            "9   1   0   0   1   1   0   1   0   1    1\n"
          ],
          "name": "stdout"
        }
      ]
    },
    {
      "cell_type": "code",
      "metadata": {
        "id": "H7V5iGNYeCpT"
      },
      "source": [
        "X = data[['X1','X2','X3','X4','X5','X6','X7','X8','X9']]\r\n",
        "Y = data['X10']\r\n"
      ],
      "execution_count": null,
      "outputs": []
    },
    {
      "cell_type": "code",
      "metadata": {
        "colab": {
          "base_uri": "https://localhost:8080/",
          "height": 363
        },
        "id": "b6Kf0dh9eCyd",
        "outputId": "b6f8a095-e7ae-418a-fb71-36722036805a"
      },
      "source": [
        "X"
      ],
      "execution_count": null,
      "outputs": [
        {
          "output_type": "execute_result",
          "data": {
            "text/html": [
              "<div>\n",
              "<style scoped>\n",
              "    .dataframe tbody tr th:only-of-type {\n",
              "        vertical-align: middle;\n",
              "    }\n",
              "\n",
              "    .dataframe tbody tr th {\n",
              "        vertical-align: top;\n",
              "    }\n",
              "\n",
              "    .dataframe thead th {\n",
              "        text-align: right;\n",
              "    }\n",
              "</style>\n",
              "<table border=\"1\" class=\"dataframe\">\n",
              "  <thead>\n",
              "    <tr style=\"text-align: right;\">\n",
              "      <th></th>\n",
              "      <th>X1</th>\n",
              "      <th>X2</th>\n",
              "      <th>X3</th>\n",
              "      <th>X4</th>\n",
              "      <th>X5</th>\n",
              "      <th>X6</th>\n",
              "      <th>X7</th>\n",
              "      <th>X8</th>\n",
              "      <th>X9</th>\n",
              "    </tr>\n",
              "  </thead>\n",
              "  <tbody>\n",
              "    <tr>\n",
              "      <th>0</th>\n",
              "      <td>1</td>\n",
              "      <td>0</td>\n",
              "      <td>0</td>\n",
              "      <td>1</td>\n",
              "      <td>0</td>\n",
              "      <td>1</td>\n",
              "      <td>1</td>\n",
              "      <td>0</td>\n",
              "      <td>1</td>\n",
              "    </tr>\n",
              "    <tr>\n",
              "      <th>1</th>\n",
              "      <td>0</td>\n",
              "      <td>1</td>\n",
              "      <td>0</td>\n",
              "      <td>0</td>\n",
              "      <td>0</td>\n",
              "      <td>1</td>\n",
              "      <td>0</td>\n",
              "      <td>1</td>\n",
              "      <td>0</td>\n",
              "    </tr>\n",
              "    <tr>\n",
              "      <th>2</th>\n",
              "      <td>1</td>\n",
              "      <td>1</td>\n",
              "      <td>0</td>\n",
              "      <td>1</td>\n",
              "      <td>0</td>\n",
              "      <td>0</td>\n",
              "      <td>1</td>\n",
              "      <td>1</td>\n",
              "      <td>1</td>\n",
              "    </tr>\n",
              "    <tr>\n",
              "      <th>3</th>\n",
              "      <td>0</td>\n",
              "      <td>1</td>\n",
              "      <td>0</td>\n",
              "      <td>1</td>\n",
              "      <td>0</td>\n",
              "      <td>1</td>\n",
              "      <td>0</td>\n",
              "      <td>1</td>\n",
              "      <td>0</td>\n",
              "    </tr>\n",
              "    <tr>\n",
              "      <th>4</th>\n",
              "      <td>1</td>\n",
              "      <td>0</td>\n",
              "      <td>1</td>\n",
              "      <td>0</td>\n",
              "      <td>0</td>\n",
              "      <td>0</td>\n",
              "      <td>1</td>\n",
              "      <td>0</td>\n",
              "      <td>0</td>\n",
              "    </tr>\n",
              "    <tr>\n",
              "      <th>5</th>\n",
              "      <td>1</td>\n",
              "      <td>1</td>\n",
              "      <td>1</td>\n",
              "      <td>1</td>\n",
              "      <td>1</td>\n",
              "      <td>1</td>\n",
              "      <td>0</td>\n",
              "      <td>1</td>\n",
              "      <td>1</td>\n",
              "    </tr>\n",
              "    <tr>\n",
              "      <th>6</th>\n",
              "      <td>1</td>\n",
              "      <td>1</td>\n",
              "      <td>1</td>\n",
              "      <td>0</td>\n",
              "      <td>1</td>\n",
              "      <td>1</td>\n",
              "      <td>1</td>\n",
              "      <td>1</td>\n",
              "      <td>0</td>\n",
              "    </tr>\n",
              "    <tr>\n",
              "      <th>7</th>\n",
              "      <td>0</td>\n",
              "      <td>1</td>\n",
              "      <td>1</td>\n",
              "      <td>0</td>\n",
              "      <td>1</td>\n",
              "      <td>0</td>\n",
              "      <td>0</td>\n",
              "      <td>0</td>\n",
              "      <td>0</td>\n",
              "    </tr>\n",
              "    <tr>\n",
              "      <th>8</th>\n",
              "      <td>1</td>\n",
              "      <td>1</td>\n",
              "      <td>0</td>\n",
              "      <td>1</td>\n",
              "      <td>1</td>\n",
              "      <td>1</td>\n",
              "      <td>1</td>\n",
              "      <td>1</td>\n",
              "      <td>1</td>\n",
              "    </tr>\n",
              "    <tr>\n",
              "      <th>9</th>\n",
              "      <td>1</td>\n",
              "      <td>0</td>\n",
              "      <td>0</td>\n",
              "      <td>1</td>\n",
              "      <td>1</td>\n",
              "      <td>0</td>\n",
              "      <td>1</td>\n",
              "      <td>0</td>\n",
              "      <td>1</td>\n",
              "    </tr>\n",
              "  </tbody>\n",
              "</table>\n",
              "</div>"
            ],
            "text/plain": [
              "   X1  X2  X3  X4  X5  X6  X7  X8  X9\n",
              "0   1   0   0   1   0   1   1   0   1\n",
              "1   0   1   0   0   0   1   0   1   0\n",
              "2   1   1   0   1   0   0   1   1   1\n",
              "3   0   1   0   1   0   1   0   1   0\n",
              "4   1   0   1   0   0   0   1   0   0\n",
              "5   1   1   1   1   1   1   0   1   1\n",
              "6   1   1   1   0   1   1   1   1   0\n",
              "7   0   1   1   0   1   0   0   0   0\n",
              "8   1   1   0   1   1   1   1   1   1\n",
              "9   1   0   0   1   1   0   1   0   1"
            ]
          },
          "metadata": {
            "tags": []
          },
          "execution_count": 11
        }
      ]
    },
    {
      "cell_type": "code",
      "metadata": {
        "colab": {
          "base_uri": "https://localhost:8080/"
        },
        "id": "0qc3-o3FeC1U",
        "outputId": "7e74fbd9-533f-4f80-b4c8-32717c9b7726"
      },
      "source": [
        "Y"
      ],
      "execution_count": null,
      "outputs": [
        {
          "output_type": "execute_result",
          "data": {
            "text/plain": [
              "0    1\n",
              "1    0\n",
              "2    1\n",
              "3    0\n",
              "4    0\n",
              "5    1\n",
              "6    1\n",
              "7    1\n",
              "8    1\n",
              "9    1\n",
              "Name: X10, dtype: int64"
            ]
          },
          "metadata": {
            "tags": []
          },
          "execution_count": 12
        }
      ]
    },
    {
      "cell_type": "markdown",
      "metadata": {
        "id": "EvaIMEuCyS31"
      },
      "source": [
        "Train Test split"
      ]
    },
    {
      "cell_type": "code",
      "metadata": {
        "colab": {
          "base_uri": "https://localhost:8080/"
        },
        "id": "mimaT4XeeC3y",
        "outputId": "31537e7c-7f7f-4f68-a8f4-cc9ea84d0274"
      },
      "source": [
        "X_train, X_test, Y_train, Y_test = train_test_split(X,Y,test_size=0.2,stratify=Y,random_state=2)\r\n",
        "print(Y_train.shape,Y_test.shape,Y.shape)"
      ],
      "execution_count": null,
      "outputs": [
        {
          "output_type": "stream",
          "text": [
            "(8,) (2,) (10,)\n"
          ],
          "name": "stdout"
        }
      ]
    },
    {
      "cell_type": "code",
      "metadata": {
        "id": "KCeW1pi6x27c"
      },
      "source": [
        "X_train = X_train.values\r\n",
        "X_test = X_test.values"
      ],
      "execution_count": null,
      "outputs": []
    },
    {
      "cell_type": "code",
      "metadata": {
        "colab": {
          "base_uri": "https://localhost:8080/"
        },
        "id": "V8ZcERL_x3N9",
        "outputId": "4d6fb501-d559-440a-bee1-cdc6481f79c3"
      },
      "source": [
        "type(X_train)\r\n",
        "type(X_test)"
      ],
      "execution_count": null,
      "outputs": [
        {
          "output_type": "execute_result",
          "data": {
            "text/plain": [
              "numpy.ndarray"
            ]
          },
          "metadata": {
            "tags": []
          },
          "execution_count": 89
        }
      ]
    },
    {
      "cell_type": "code",
      "metadata": {
        "colab": {
          "base_uri": "https://localhost:8080/"
        },
        "id": "8sn8a6NWx3RX",
        "outputId": "5a7131b3-47f8-42bc-8973-cc22b74ea91b"
      },
      "source": [
        "b=4\r\n",
        "\r\n",
        "from random import randint\r\n",
        "i = randint(0,X_train.shape[0])\r\n",
        "\r\n",
        "# Building the logic for our ML classification Model with the training data as input feeding into it \r\n",
        "if(np.sum(X_train[i,:])>b):\r\n",
        "    print(1)\r\n",
        "else:\r\n",
        "    print(0)\r\n",
        "    \r\n",
        "#Building the logic to check whether Model Prediction of Label is same and accurate to the Target Variable Value for particular Feature Vector(X)    \r\n",
        "if(Y_train[i]==1):\r\n",
        "    print(1)\r\n",
        "else:\r\n",
        "    print(0)"
      ],
      "execution_count": null,
      "outputs": [
        {
          "output_type": "stream",
          "text": [
            "1\n",
            "1\n"
          ],
          "name": "stdout"
        }
      ]
    },
    {
      "cell_type": "code",
      "metadata": {
        "colab": {
          "base_uri": "https://localhost:8080/"
        },
        "id": "IM1jy6A5x3Wn",
        "outputId": "6fb4de9d-62ff-4853-aec6-a4664f22d1b2"
      },
      "source": [
        "#Training accuracy\r\n",
        "for b in range(X_train.shape[1]+1):\r\n",
        "    accurate_rows = 0\r\n",
        "    y_pred = 0\r\n",
        "    for x,y in zip(X_train, Y_train):\r\n",
        "        y_pred = (np.sum(x)>b)\r\n",
        "        accurate_rows+= (y == y_pred)\r\n",
        "  \r\n",
        "    print('For b= ',b ,'on training set, Accurate rows: ', accurate_rows , 'Accuracy= ',accurate_rows/X_train.shape[0])"
      ],
      "execution_count": null,
      "outputs": [
        {
          "output_type": "stream",
          "text": [
            "For b=  0 on training set, Accurate rows:  6 Accuracy=  0.75\n",
            "For b=  1 on training set, Accurate rows:  6 Accuracy=  0.75\n",
            "For b=  2 on training set, Accurate rows:  6 Accuracy=  0.75\n",
            "For b=  3 on training set, Accurate rows:  6 Accuracy=  0.75\n",
            "For b=  4 on training set, Accurate rows:  7 Accuracy=  0.875\n",
            "For b=  5 on training set, Accurate rows:  5 Accuracy=  0.625\n",
            "For b=  6 on training set, Accurate rows:  4 Accuracy=  0.5\n",
            "For b=  7 on training set, Accurate rows:  3 Accuracy=  0.375\n",
            "For b=  8 on training set, Accurate rows:  2 Accuracy=  0.25\n",
            "For b=  9 on training set, Accurate rows:  2 Accuracy=  0.25\n"
          ],
          "name": "stdout"
        }
      ]
    },
    {
      "cell_type": "code",
      "metadata": {
        "colab": {
          "base_uri": "https://localhost:8080/"
        },
        "id": "qOHrLSt_SuTN",
        "outputId": "37be08c4-4edd-4c01-a2d7-0fb274d0caa3"
      },
      "source": [
        "X_test"
      ],
      "execution_count": null,
      "outputs": [
        {
          "output_type": "execute_result",
          "data": {
            "text/plain": [
              "array([[0, 1, 0, 0, 0, 1, 0, 1, 0],\n",
              "       [1, 1, 0, 1, 1, 1, 1, 1, 1]])"
            ]
          },
          "metadata": {
            "tags": []
          },
          "execution_count": 67
        }
      ]
    },
    {
      "cell_type": "code",
      "metadata": {
        "colab": {
          "base_uri": "https://localhost:8080/"
        },
        "id": "bDTP9pf7St8e",
        "outputId": "6f1355aa-c7c0-489a-86b3-16c323051994"
      },
      "source": [
        "Y_test"
      ],
      "execution_count": null,
      "outputs": [
        {
          "output_type": "execute_result",
          "data": {
            "text/plain": [
              "1    0\n",
              "8    1\n",
              "Name: X10, dtype: int64"
            ]
          },
          "metadata": {
            "tags": []
          },
          "execution_count": 68
        }
      ]
    },
    {
      "cell_type": "code",
      "metadata": {
        "colab": {
          "base_uri": "https://localhost:8080/"
        },
        "id": "0Y9v_WgYx3Zq",
        "outputId": "83d81d41-8a17-42c5-e40b-43645be1cad1"
      },
      "source": [
        "#Testing  Accuracy\r\n",
        "acc_rows=0\r\n",
        "t=X_test.shape[0]\r\n",
        "b=4\r\n",
        "pred=[]\r\n",
        "for x,y in zip(X_test, Y_test):\r\n",
        "        y_pred1 = (np.sum(x)>b)\r\n",
        "        print(y_pred1)\r\n",
        "        acc_rows+= (y == y_pred1)\r\n",
        "        if(y_pred1==1):\r\n",
        "          pred.append(1)\r\n",
        "        else:\r\n",
        "          pred.append(0)\r\n",
        "print(pred)\r\n",
        "print('For b= ',b ,'on testing set, Accurate rows: ', acc_rows , 'Accuracy= ',acc_rows/t)\r\n",
        "\r\n",
        "\r\n"
      ],
      "execution_count": null,
      "outputs": [
        {
          "output_type": "stream",
          "text": [
            "False\n",
            "True\n",
            "[0, 1]\n",
            "For b=  4 on testing set, Accurate rows:  2 Accuracy=  1.0\n"
          ],
          "name": "stdout"
        }
      ]
    },
    {
      "cell_type": "code",
      "metadata": {
        "colab": {
          "base_uri": "https://localhost:8080/"
        },
        "id": "qbqJAkGBReM4",
        "outputId": "90657889-c991-486c-c311-a642ee54b6ed"
      },
      "source": [
        "Y_test"
      ],
      "execution_count": null,
      "outputs": [
        {
          "output_type": "execute_result",
          "data": {
            "text/plain": [
              "1    0\n",
              "8    1\n",
              "Name: X10, dtype: int64"
            ]
          },
          "metadata": {
            "tags": []
          },
          "execution_count": 70
        }
      ]
    },
    {
      "cell_type": "code",
      "metadata": {
        "colab": {
          "base_uri": "https://localhost:8080/"
        },
        "id": "E9LXB1K4ReEt",
        "outputId": "c818a4bb-bc02-4d21-bb0b-7664e7a7820c"
      },
      "source": [
        "pred"
      ],
      "execution_count": null,
      "outputs": [
        {
          "output_type": "execute_result",
          "data": {
            "text/plain": [
              "[0, 1]"
            ]
          },
          "metadata": {
            "tags": []
          },
          "execution_count": 71
        }
      ]
    },
    {
      "cell_type": "code",
      "metadata": {
        "colab": {
          "base_uri": "https://localhost:8080/"
        },
        "id": "HJb51jwHx3cj",
        "outputId": "18623dcc-f4d8-4566-d058-b9ccaccc7e3a"
      },
      "source": [
        "from sklearn import metrics\r\n",
        "from sklearn.metrics import confusion_matrix\r\n",
        "print(metrics.confusion_matrix(Y_test,pred))"
      ],
      "execution_count": null,
      "outputs": [
        {
          "output_type": "stream",
          "text": [
            "[[1 0]\n",
            " [0 1]]\n"
          ],
          "name": "stdout"
        }
      ]
    },
    {
      "cell_type": "code",
      "metadata": {
        "colab": {
          "base_uri": "https://localhost:8080/"
        },
        "id": "8sFs7wgQVgbW",
        "outputId": "f44a4a94-aa1f-4d12-e313-6fe9860653a2"
      },
      "source": [
        "from sklearn.metrics import accuracy_score\r\n",
        "print(metrics.accuracy_score(Y_test,pred))"
      ],
      "execution_count": null,
      "outputs": [
        {
          "output_type": "stream",
          "text": [
            "1.0\n"
          ],
          "name": "stdout"
        }
      ]
    },
    {
      "cell_type": "code",
      "metadata": {
        "colab": {
          "base_uri": "https://localhost:8080/"
        },
        "id": "6nuwyAsQx3fa",
        "outputId": "4cf20f28-a0b3-4574-ce07-c201d47d2c57"
      },
      "source": [
        "print(classification_report(Y_test,pred))\r\n",
        "\r\n"
      ],
      "execution_count": null,
      "outputs": [
        {
          "output_type": "stream",
          "text": [
            "              precision    recall  f1-score   support\n",
            "\n",
            "           0       1.00      1.00      1.00         1\n",
            "           1       1.00      1.00      1.00         1\n",
            "\n",
            "    accuracy                           1.00         2\n",
            "   macro avg       1.00      1.00      1.00         2\n",
            "weighted avg       1.00      1.00      1.00         2\n",
            "\n"
          ],
          "name": "stdout"
        }
      ]
    },
    {
      "cell_type": "code",
      "metadata": {
        "id": "V_LmvYYwYI0a"
      },
      "source": [
        "#Training  Accuracy=  0.875\r\n",
        "#Testing Accuracy=  1.0 "
      ],
      "execution_count": null,
      "outputs": []
    },
    {
      "cell_type": "markdown",
      "metadata": {
        "id": "OWdtu6Ml3RMc"
      },
      "source": [
        ""
      ]
    },
    {
      "cell_type": "code",
      "metadata": {
        "colab": {
          "base_uri": "https://localhost:8080/"
        },
        "id": "8jPFiW8Fwkz6",
        "outputId": "797ed6df-d0cb-477a-a566-4f094bd18da4"
      },
      "source": [
        "X_train, X_test, Y_train, Y_test = train_test_split(X,Y,test_size=0.3,stratify=Y,random_state=3)\r\n",
        "print(Y_train.shape,Y_test.shape,Y.shape)"
      ],
      "execution_count": null,
      "outputs": [
        {
          "output_type": "stream",
          "text": [
            "(7,) (3,) (10,)\n"
          ],
          "name": "stdout"
        }
      ]
    },
    {
      "cell_type": "code",
      "metadata": {
        "id": "Brw1-qvWzPMy"
      },
      "source": [
        "X_train = X_train.values\r\n",
        "X_test = X_test.values"
      ],
      "execution_count": null,
      "outputs": []
    },
    {
      "cell_type": "code",
      "metadata": {
        "colab": {
          "base_uri": "https://localhost:8080/"
        },
        "id": "W2yOmG8dxFdS",
        "outputId": "d474a47b-acdf-425d-dc3c-1505076bc0f1"
      },
      "source": [
        "#Training accuracy\r\n",
        "for b in range(X_train.shape[1]+1):\r\n",
        "    accurate_rows = 0\r\n",
        "    y_pred = 0\r\n",
        "    for x,y in zip(X_train, Y_train):\r\n",
        "        y_pred = (np.sum(x)>b)\r\n",
        "        accurate_rows+= (y == y_pred)\r\n",
        "  \r\n",
        "    print('For b= ',b ,'on training set, Accurate rows: ', accurate_rows , 'Accuracy= ',accurate_rows/X_train.shape[0])"
      ],
      "execution_count": null,
      "outputs": [
        {
          "output_type": "stream",
          "text": [
            "For b=  0 on training set, Accurate rows:  5 Accuracy=  0.7142857142857143\n",
            "For b=  1 on training set, Accurate rows:  5 Accuracy=  0.7142857142857143\n",
            "For b=  2 on training set, Accurate rows:  5 Accuracy=  0.7142857142857143\n",
            "For b=  3 on training set, Accurate rows:  5 Accuracy=  0.7142857142857143\n",
            "For b=  4 on training set, Accurate rows:  6 Accuracy=  0.8571428571428571\n",
            "For b=  5 on training set, Accurate rows:  4 Accuracy=  0.5714285714285714\n",
            "For b=  6 on training set, Accurate rows:  4 Accuracy=  0.5714285714285714\n",
            "For b=  7 on training set, Accurate rows:  4 Accuracy=  0.5714285714285714\n",
            "For b=  8 on training set, Accurate rows:  2 Accuracy=  0.2857142857142857\n",
            "For b=  9 on training set, Accurate rows:  2 Accuracy=  0.2857142857142857\n"
          ],
          "name": "stdout"
        }
      ]
    },
    {
      "cell_type": "code",
      "metadata": {
        "colab": {
          "base_uri": "https://localhost:8080/"
        },
        "id": "B0lBEZ5IxFWX",
        "outputId": "1e3584dc-bc2e-4e47-a4ce-edcd6ba7c1c9"
      },
      "source": [
        "#Testing  Accuracy\r\n",
        "acc_rows=0\r\n",
        "t=X_test.shape[0]\r\n",
        "b=4\r\n",
        "pred=[]\r\n",
        "for x,y in zip(X_test, Y_test):\r\n",
        "        y_pred1 = (np.sum(x)>b)\r\n",
        "        print(y_pred1)\r\n",
        "        acc_rows+= (y == y_pred1)\r\n",
        "        if(y_pred1==1):\r\n",
        "          pred.append(1)\r\n",
        "        else:\r\n",
        "          pred.append(0)\r\n",
        "print(pred)\r\n",
        "print('For b= ',b ,'on testing set, Accurate rows: ', acc_rows , 'Accuracy= ',acc_rows/t)\r\n",
        "\r\n",
        "\r\n"
      ],
      "execution_count": null,
      "outputs": [
        {
          "output_type": "stream",
          "text": [
            "False\n",
            "True\n",
            "True\n",
            "[0, 1, 1]\n",
            "For b=  4 on testing set, Accurate rows:  3 Accuracy=  1.0\n"
          ],
          "name": "stdout"
        }
      ]
    },
    {
      "cell_type": "code",
      "metadata": {
        "colab": {
          "base_uri": "https://localhost:8080/"
        },
        "id": "DHVMep4NxFNu",
        "outputId": "0bf9822c-e2af-459a-ccf2-bfb16ab75f39"
      },
      "source": [
        "print(metrics.confusion_matrix(Y_test,pred))"
      ],
      "execution_count": null,
      "outputs": [
        {
          "output_type": "stream",
          "text": [
            "[[1 0]\n",
            " [0 2]]\n"
          ],
          "name": "stdout"
        }
      ]
    },
    {
      "cell_type": "code",
      "metadata": {
        "colab": {
          "base_uri": "https://localhost:8080/"
        },
        "id": "ZdndBo5yxE0t",
        "outputId": "0e9272bc-c7df-467f-979b-a2bd83da01cc"
      },
      "source": [
        "print(metrics.accuracy_score(Y_test,pred))"
      ],
      "execution_count": null,
      "outputs": [
        {
          "output_type": "stream",
          "text": [
            "1.0\n"
          ],
          "name": "stdout"
        }
      ]
    },
    {
      "cell_type": "code",
      "metadata": {
        "colab": {
          "base_uri": "https://localhost:8080/"
        },
        "id": "wyHrnr17x3k5",
        "outputId": "ada90bfc-aad2-4c84-9ec1-927776dad540"
      },
      "source": [
        "print(classification_report(Y_test,pred))"
      ],
      "execution_count": null,
      "outputs": [
        {
          "output_type": "stream",
          "text": [
            "              precision    recall  f1-score   support\n",
            "\n",
            "           0       1.00      1.00      1.00         1\n",
            "           1       1.00      1.00      1.00         2\n",
            "\n",
            "    accuracy                           1.00         3\n",
            "   macro avg       1.00      1.00      1.00         3\n",
            "weighted avg       1.00      1.00      1.00         3\n",
            "\n"
          ],
          "name": "stdout"
        }
      ]
    },
    {
      "cell_type": "code",
      "metadata": {
        "id": "UsaLEwAIyOKZ"
      },
      "source": [
        "#Training Accuracy=  0.8571428571428571\r\n",
        "#Testing Accuracy=  1.0"
      ],
      "execution_count": null,
      "outputs": []
    },
    {
      "cell_type": "code",
      "metadata": {
        "colab": {
          "base_uri": "https://localhost:8080/"
        },
        "id": "HsY0R1xxw3Sz",
        "outputId": "1db90531-98c9-4185-c6fe-dc40afe5666f"
      },
      "source": [
        "X_train, X_test, Y_train, Y_test = train_test_split(X,Y,test_size=0.4,stratify=Y,random_state=4)\r\n",
        "print(Y_train.shape,Y_test.shape,Y.shape)"
      ],
      "execution_count": null,
      "outputs": [
        {
          "output_type": "stream",
          "text": [
            "(6,) (4,) (10,)\n"
          ],
          "name": "stdout"
        }
      ]
    },
    {
      "cell_type": "code",
      "metadata": {
        "id": "KIWgZAlQxI2J"
      },
      "source": [
        "X_train = X_train.values\r\n",
        "X_test = X_test.values"
      ],
      "execution_count": null,
      "outputs": []
    },
    {
      "cell_type": "code",
      "metadata": {
        "colab": {
          "base_uri": "https://localhost:8080/"
        },
        "id": "jKvz_JIxxI0A",
        "outputId": "9c0c6c39-c37b-4200-def4-2b33db3b1691"
      },
      "source": [
        "#Training accuracy\r\n",
        "for b in range(X_train.shape[1]+1):\r\n",
        "    accurate_rows = 0\r\n",
        "    y_pred = 0\r\n",
        "    for x,y in zip(X_train, Y_train):\r\n",
        "        y_pred = (np.sum(x)>b)\r\n",
        "        accurate_rows+= (y == y_pred)\r\n",
        "  \r\n",
        "    print('For b= ',b ,'on training set, Accurate rows: ', accurate_rows , 'Accuracy= ',accurate_rows/X_train.shape[0])"
      ],
      "execution_count": null,
      "outputs": [
        {
          "output_type": "stream",
          "text": [
            "For b=  0 on training set, Accurate rows:  4 Accuracy=  0.6666666666666666\n",
            "For b=  1 on training set, Accurate rows:  4 Accuracy=  0.6666666666666666\n",
            "For b=  2 on training set, Accurate rows:  4 Accuracy=  0.6666666666666666\n",
            "For b=  3 on training set, Accurate rows:  4 Accuracy=  0.6666666666666666\n",
            "For b=  4 on training set, Accurate rows:  5 Accuracy=  0.8333333333333334\n",
            "For b=  5 on training set, Accurate rows:  4 Accuracy=  0.6666666666666666\n",
            "For b=  6 on training set, Accurate rows:  4 Accuracy=  0.6666666666666666\n",
            "For b=  7 on training set, Accurate rows:  3 Accuracy=  0.5\n",
            "For b=  8 on training set, Accurate rows:  2 Accuracy=  0.3333333333333333\n",
            "For b=  9 on training set, Accurate rows:  2 Accuracy=  0.3333333333333333\n"
          ],
          "name": "stdout"
        }
      ]
    },
    {
      "cell_type": "code",
      "metadata": {
        "colab": {
          "base_uri": "https://localhost:8080/"
        },
        "id": "rGm4R9xDxIxq",
        "outputId": "18ae8fca-0973-4169-99f7-2ee078b1f80b"
      },
      "source": [
        "#Testing  Accuracy\r\n",
        "acc_rows=0\r\n",
        "t=X_test.shape[0]\r\n",
        "b=4\r\n",
        "pred=[]\r\n",
        "for x,y in zip(X_test, Y_test):\r\n",
        "        y_pred1 = (np.sum(x)>b)\r\n",
        "        print(y_pred1)\r\n",
        "        acc_rows+= (y == y_pred1)\r\n",
        "        if(y_pred1==1):\r\n",
        "          pred.append(1)\r\n",
        "        else:\r\n",
        "          pred.append(0)\r\n",
        "print(pred)\r\n",
        "print('For b= ',b ,'on testing set, Accurate rows: ', acc_rows , 'Accuracy= ',acc_rows/t)\r\n",
        "\r\n",
        "\r\n"
      ],
      "execution_count": null,
      "outputs": [
        {
          "output_type": "stream",
          "text": [
            "True\n",
            "False\n",
            "True\n",
            "True\n",
            "[1, 0, 1, 1]\n",
            "For b=  4 on testing set, Accurate rows:  4 Accuracy=  1.0\n"
          ],
          "name": "stdout"
        }
      ]
    },
    {
      "cell_type": "code",
      "metadata": {
        "colab": {
          "base_uri": "https://localhost:8080/"
        },
        "id": "9tPHcZauxIuV",
        "outputId": "d19e1e22-6c68-450f-fbea-64fc1edbaded"
      },
      "source": [
        "print(metrics.confusion_matrix(Y_test,pred))"
      ],
      "execution_count": null,
      "outputs": [
        {
          "output_type": "stream",
          "text": [
            "[[1 0]\n",
            " [0 3]]\n"
          ],
          "name": "stdout"
        }
      ]
    },
    {
      "cell_type": "code",
      "metadata": {
        "colab": {
          "base_uri": "https://localhost:8080/"
        },
        "id": "KEhRtAR8xIrS",
        "outputId": "fb9422b1-88d7-4e76-fabc-3f2d21bdc69b"
      },
      "source": [
        "print(metrics.accuracy_score(Y_test,pred))"
      ],
      "execution_count": null,
      "outputs": [
        {
          "output_type": "stream",
          "text": [
            "1.0\n"
          ],
          "name": "stdout"
        }
      ]
    },
    {
      "cell_type": "code",
      "metadata": {
        "colab": {
          "base_uri": "https://localhost:8080/"
        },
        "id": "n4mn_uJrxIn9",
        "outputId": "304583a5-5f80-40a6-87b7-d5a5cb3de1ae"
      },
      "source": [
        "print(classification_report(Y_test,pred))"
      ],
      "execution_count": null,
      "outputs": [
        {
          "output_type": "stream",
          "text": [
            "              precision    recall  f1-score   support\n",
            "\n",
            "           0       1.00      1.00      1.00         1\n",
            "           1       1.00      1.00      1.00         3\n",
            "\n",
            "    accuracy                           1.00         4\n",
            "   macro avg       1.00      1.00      1.00         4\n",
            "weighted avg       1.00      1.00      1.00         4\n",
            "\n"
          ],
          "name": "stdout"
        }
      ]
    },
    {
      "cell_type": "code",
      "metadata": {
        "id": "UT_wzFg7x3n_"
      },
      "source": [
        "#Training  Accuracy=  0.8333333333333334\r\n",
        "#Testing Accuracy=  1.0"
      ],
      "execution_count": null,
      "outputs": []
    },
    {
      "cell_type": "code",
      "metadata": {
        "colab": {
          "base_uri": "https://localhost:8080/"
        },
        "id": "z5SQlXzRw4Hk",
        "outputId": "b7b5ccd5-5b29-4a59-d5d0-507ec68f0f89"
      },
      "source": [
        "X_train, X_test, Y_train, Y_test = train_test_split(X,Y,test_size=0.5,stratify=Y,random_state=5)\r\n",
        "print(Y_train.shape,Y_test.shape,Y.shape)"
      ],
      "execution_count": null,
      "outputs": [
        {
          "output_type": "stream",
          "text": [
            "(5,) (5,) (10,)\n"
          ],
          "name": "stdout"
        }
      ]
    },
    {
      "cell_type": "code",
      "metadata": {
        "id": "bIlPpCGOxKoW"
      },
      "source": [
        "X_train = X_train.values\r\n",
        "X_test = X_test.values"
      ],
      "execution_count": null,
      "outputs": []
    },
    {
      "cell_type": "code",
      "metadata": {
        "colab": {
          "base_uri": "https://localhost:8080/"
        },
        "id": "FgG9spELxKk-",
        "outputId": "0c1eafc9-73a8-4670-caa8-af2dd2024457"
      },
      "source": [
        "#Training accuracy\r\n",
        "for b in range(X_train.shape[1]+1):\r\n",
        "    accurate_rows = 0\r\n",
        "    y_pred = 0\r\n",
        "    for x,y in zip(X_train, Y_train):\r\n",
        "        y_pred = (np.sum(x)>b)\r\n",
        "        accurate_rows+= (y == y_pred)\r\n",
        "  \r\n",
        "    print('For b= ',b ,'on training set, Accurate rows: ', accurate_rows , 'Accuracy= ',accurate_rows/X_train.shape[0])"
      ],
      "execution_count": null,
      "outputs": [
        {
          "output_type": "stream",
          "text": [
            "For b=  0 on training set, Accurate rows:  3 Accuracy=  0.6\n",
            "For b=  1 on training set, Accurate rows:  3 Accuracy=  0.6\n",
            "For b=  2 on training set, Accurate rows:  3 Accuracy=  0.6\n",
            "For b=  3 on training set, Accurate rows:  3 Accuracy=  0.6\n",
            "For b=  4 on training set, Accurate rows:  4 Accuracy=  0.8\n",
            "For b=  5 on training set, Accurate rows:  4 Accuracy=  0.8\n",
            "For b=  6 on training set, Accurate rows:  4 Accuracy=  0.8\n",
            "For b=  7 on training set, Accurate rows:  3 Accuracy=  0.6\n",
            "For b=  8 on training set, Accurate rows:  2 Accuracy=  0.4\n",
            "For b=  9 on training set, Accurate rows:  2 Accuracy=  0.4\n"
          ],
          "name": "stdout"
        }
      ]
    },
    {
      "cell_type": "code",
      "metadata": {
        "colab": {
          "base_uri": "https://localhost:8080/"
        },
        "id": "so-SS8RxxKiX",
        "outputId": "407f4885-2409-469f-8994-f088f9d20483"
      },
      "source": [
        "#Testing  Accuracy\r\n",
        "acc_rows=0\r\n",
        "t=X_test.shape[0]\r\n",
        "b=4\r\n",
        "pred=[]\r\n",
        "for x,y in zip(X_test, Y_test):\r\n",
        "        y_pred1 = (np.sum(x)>b)\r\n",
        "        print(y_pred1)\r\n",
        "        acc_rows+= (y == y_pred1)\r\n",
        "        if(y_pred1==1):\r\n",
        "          pred.append(1)\r\n",
        "        else:\r\n",
        "          pred.append(0)\r\n",
        "print(pred)\r\n",
        "print('For b= ',b ,'on testing set, Accurate rows: ', acc_rows , 'Accuracy= ',acc_rows/t)\r\n",
        "\r\n",
        "\r\n"
      ],
      "execution_count": null,
      "outputs": [
        {
          "output_type": "stream",
          "text": [
            "False\n",
            "True\n",
            "True\n",
            "True\n",
            "True\n",
            "[0, 1, 1, 1, 1]\n",
            "For b=  4 on testing set, Accurate rows:  5 Accuracy=  1.0\n"
          ],
          "name": "stdout"
        }
      ]
    },
    {
      "cell_type": "code",
      "metadata": {
        "colab": {
          "base_uri": "https://localhost:8080/"
        },
        "id": "M-WTHJa6xKfw",
        "outputId": "375e6b52-7c0b-497c-e802-327a45371b0a"
      },
      "source": [
        "print(metrics.confusion_matrix(Y_test,pred))"
      ],
      "execution_count": null,
      "outputs": [
        {
          "output_type": "stream",
          "text": [
            "[[1 0]\n",
            " [0 4]]\n"
          ],
          "name": "stdout"
        }
      ]
    },
    {
      "cell_type": "code",
      "metadata": {
        "colab": {
          "base_uri": "https://localhost:8080/"
        },
        "id": "g9BSOUxgxKc7",
        "outputId": "3609d7a3-ee41-4952-bbb4-08c29f64b086"
      },
      "source": [
        "print(metrics.accuracy_score(Y_test,pred))"
      ],
      "execution_count": null,
      "outputs": [
        {
          "output_type": "stream",
          "text": [
            "1.0\n"
          ],
          "name": "stdout"
        }
      ]
    },
    {
      "cell_type": "code",
      "metadata": {
        "colab": {
          "base_uri": "https://localhost:8080/"
        },
        "id": "f2aloTLMxKaI",
        "outputId": "b2ace1e2-b3dd-45f1-c676-2f2d7d2bcb0c"
      },
      "source": [
        "print(classification_report(Y_test,pred))"
      ],
      "execution_count": null,
      "outputs": [
        {
          "output_type": "stream",
          "text": [
            "              precision    recall  f1-score   support\n",
            "\n",
            "           0       1.00      1.00      1.00         1\n",
            "           1       1.00      1.00      1.00         4\n",
            "\n",
            "    accuracy                           1.00         5\n",
            "   macro avg       1.00      1.00      1.00         5\n",
            "weighted avg       1.00      1.00      1.00         5\n",
            "\n"
          ],
          "name": "stdout"
        }
      ]
    },
    {
      "cell_type": "code",
      "metadata": {
        "id": "PbEdlCZDxKXM"
      },
      "source": [
        "#Training  Accuracy=  0.8\r\n",
        "#Testing Accuracy=  1.0"
      ],
      "execution_count": null,
      "outputs": []
    },
    {
      "cell_type": "code",
      "metadata": {
        "id": "a7LAi-mMxKQ_"
      },
      "source": [
        ""
      ],
      "execution_count": null,
      "outputs": []
    }
  ]
}