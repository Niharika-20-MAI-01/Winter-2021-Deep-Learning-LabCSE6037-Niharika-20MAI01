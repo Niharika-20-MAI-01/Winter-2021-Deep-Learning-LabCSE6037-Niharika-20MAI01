{
  "nbformat": 4,
  "nbformat_minor": 0,
  "metadata": {
    "colab": {
      "name": "20MAI0001_Deep-Learning-Applications-Lab-CSE-6037_Lab-FAT .ipynb",
      "provenance": [],
      "collapsed_sections": [],
      "authorship_tag": "ABX9TyMuROB7A1TdvN+8zYL3qlA8",
      "include_colab_link": true
    },
    "kernelspec": {
      "name": "python3",
      "display_name": "Python 3"
    },
    "language_info": {
      "name": "python"
    },
    "accelerator": "GPU"
  },
  "cells": [
    {
      "cell_type": "markdown",
      "metadata": {
        "id": "view-in-github",
        "colab_type": "text"
      },
      "source": [
        "<a href=\"https://colab.research.google.com/github/Niharika-20-MAI-01/Winter-2021-Deep-Learning-LabCSE6037-Niharika-20MAI01/blob/main/20MAI0001_Deep_Learning_Applications_Lab_CSE_6037_Lab_FAT_.ipynb\" target=\"_parent\"><img src=\"https://colab.research.google.com/assets/colab-badge.svg\" alt=\"Open In Colab\"/></a>"
      ]
    },
    {
      "cell_type": "markdown",
      "metadata": {
        "id": "NALqZdo3NP4d"
      },
      "source": [
        "#DLA-Lab-CSE6037_Lab-FAT:-_a.\tImplementation of OR function with bipolar inputs and binary targets using perceptron training algorithm upto 2 epochs. Considering the initial values of the weights and bias are 0, Learning rate is 1 and threshold is 0.2 for the activation function. Using Binary activation function)\n",
        ".\n",
        "\n",
        "\n",
        "Submitted By: 20MAI0001 - NIHARIKA MAITRA\n",
        "\n",
        "\n",
        "\n",
        " "
      ]
    },
    {
      "cell_type": "code",
      "metadata": {
        "id": "UIK1Y8AlOga3"
      },
      "source": [
        ""
      ],
      "execution_count": 86,
      "outputs": []
    },
    {
      "cell_type": "markdown",
      "metadata": {
        "id": "XdiEGk7mNzWW"
      },
      "source": [
        "To find the Input data and the .ipynb file used for this Assignment please visit :\n",
        "\n",
        "Link for Input dataset used in this Assignment as Input :  \n",
        "\n",
        "git Repo Link :"
      ]
    },
    {
      "cell_type": "code",
      "metadata": {
        "id": "gawYMkKLLqqh"
      },
      "source": [
        ""
      ],
      "execution_count": 86,
      "outputs": []
    },
    {
      "cell_type": "markdown",
      "metadata": {
        "id": "8rNgl_8MxSpe"
      },
      "source": [
        "Importing necessary Python library"
      ]
    },
    {
      "cell_type": "code",
      "metadata": {
        "id": "7zxiqLxxLsq_"
      },
      "source": [
        "\n",
        "import numpy as np\n"
      ],
      "execution_count": 87,
      "outputs": []
    },
    {
      "cell_type": "markdown",
      "metadata": {
        "id": "JftHaKIfxVj0"
      },
      "source": [
        "# Defining the Binary Activation Function with threshold  value as 0.2"
      ]
    },
    {
      "cell_type": "code",
      "metadata": {
        "id": "KJ5dnzRZLste"
      },
      "source": [
        "\n",
        "def unitStep(v):\n",
        "\tif v >= 0.2:\n",
        "\t\treturn 1\n",
        "\telse:\n",
        "\t\treturn 0\n",
        "\n"
      ],
      "execution_count": 88,
      "outputs": []
    },
    {
      "cell_type": "markdown",
      "metadata": {
        "id": "8aaNtwbJxem-"
      },
      "source": [
        "# Designing / Building and Creating the Perceptron Training Model :"
      ]
    },
    {
      "cell_type": "code",
      "metadata": {
        "id": "ZGkcc9o1Lsw9"
      },
      "source": [
        "\n",
        "def perceptronModel(x, w, b):\n",
        "\tv = np.dot(w, x) + b\n",
        "\ty = unitStep(v)\n",
        "\treturn y\n",
        "\n"
      ],
      "execution_count": 89,
      "outputs": []
    },
    {
      "cell_type": "markdown",
      "metadata": {
        "id": "X5c2O_LzxwTl"
      },
      "source": [
        "Defination of OR function with bipolar inputs and binary targets :"
      ]
    },
    {
      "cell_type": "markdown",
      "metadata": {
        "id": "J6KmY6rcx9CR"
      },
      "source": [
        "\n",
        "w1 = 0, w2 = 0, b = 0 , Initially Assigned  values of weights and biases and value of Learning Rate as lr = 1 "
      ]
    },
    {
      "cell_type": "code",
      "metadata": {
        "id": "1muwn73kLszZ"
      },
      "source": [
        "w1 = 0\n",
        "w2 = 0 \n",
        "b = 0 \n",
        "lr = 1 \n",
        "#w1 = 1 + w1 * 1\n",
        "  #w2 = 1 + w2 * 1\n",
        "  #w = np.array([w1, w2])\n",
        "  #b = 1 + 1*b\n",
        "  #return perceptronModel(x, w, b)\n",
        "\t#w = np.array([1, 1])\n",
        "  #b = 1\n",
        "def OR_logicFunction(x):\n",
        "  w = np.array([1, 1])\n",
        "  b = 1\n",
        "  return perceptronModel(x, w, b)\n",
        "  \n",
        "\t\n",
        "\n"
      ],
      "execution_count": 90,
      "outputs": []
    },
    {
      "cell_type": "markdown",
      "metadata": {
        "id": "OcrITCoGy9tq"
      },
      "source": [
        "Implementation of Perceptron Training Algorithm for upto 2 epochs :"
      ]
    },
    {
      "cell_type": "markdown",
      "metadata": {
        "id": "JCZDT1pdzHX9"
      },
      "source": [
        "Training the Perceptron Training Algorithm Model with Bipolar Input for the 1st Epoch :"
      ]
    },
    {
      "cell_type": "code",
      "metadata": {
        "id": "6aejWdcCLtMU"
      },
      "source": [
        "\n",
        "test1 = np.array([-1, 1])\n",
        "test2 = np.array([1, -1])\n",
        "test3 = np.array([-1, -1])\n",
        "test4 = np.array([1, 1])\n",
        "\n"
      ],
      "execution_count": 91,
      "outputs": []
    },
    {
      "cell_type": "markdown",
      "metadata": {
        "id": "1KazID6Y0Jor"
      },
      "source": [
        "Testing and Result observation for Implementation of OR Function with bipolar inputs and binary targets using the Perceptron Training Algorithm for 1st  Epoch :"
      ]
    },
    {
      "cell_type": "code",
      "metadata": {
        "id": "qLU_eNaPLtPO",
        "colab": {
          "base_uri": "https://localhost:8080/"
        },
        "outputId": "fe2d7454-f69b-41d8-c975-73b91bea23e3"
      },
      "source": [
        "print(\"OR({}, {}) = {}\".format(-1, 1, OR_logicFunction(test1)))\n",
        "print(\"OR({}, {}) = {}\".format(1, -1, OR_logicFunction(test2)))\n",
        "print(\"OR({}, {}) = {}\".format(-1, -1, OR_logicFunction(test3)))\n",
        "print(\"OR({}, {}) = {}\".format(1, 1, OR_logicFunction(test4)))\n"
      ],
      "execution_count": 92,
      "outputs": [
        {
          "output_type": "stream",
          "text": [
            "OR(-1, 1) = 1\n",
            "OR(1, -1) = 1\n",
            "OR(-1, -1) = 0\n",
            "OR(1, 1) = 1\n"
          ],
          "name": "stdout"
        }
      ]
    },
    {
      "cell_type": "markdown",
      "metadata": {
        "id": "gL-YDAy_zVQm"
      },
      "source": [
        "Training the Perceptron Training Algorithm Model with Bipolar Input for the 2nd Epoch :"
      ]
    },
    {
      "cell_type": "code",
      "metadata": {
        "id": "7eMnMUFeLtSP"
      },
      "source": [
        "test11 = np.array([-1, -1])\n",
        "test22 = np.array([1, -1])\n",
        "test33 = np.array([1, 1])\n",
        "test44 = np.array([-1, 1])"
      ],
      "execution_count": 93,
      "outputs": []
    },
    {
      "cell_type": "markdown",
      "metadata": {
        "id": "XfVStJK9zppj"
      },
      "source": [
        "Testing and Result observation for Implementation of OR Function with bipolar inputs and binary targets using the Perceptron Training Algorithm for 2nd  Epoch :"
      ]
    },
    {
      "cell_type": "code",
      "metadata": {
        "id": "SBlREak7LtVG",
        "colab": {
          "base_uri": "https://localhost:8080/"
        },
        "outputId": "6b828c59-481b-4971-ce00-ed911fd55eba"
      },
      "source": [
        "print(\"OR({}, {}) = {}\".format(-1, -1, OR_logicFunction(test11)))\n",
        "print(\"OR({}, {}) = {}\".format(1, -1, OR_logicFunction(test22)))\n",
        "print(\"OR({}, {}) = {}\".format(1, 1, OR_logicFunction(test33)))\n",
        "print(\"OR({}, {}) = {}\".format(-1, 1, OR_logicFunction(test44)))\n"
      ],
      "execution_count": 94,
      "outputs": [
        {
          "output_type": "stream",
          "text": [
            "OR(-1, -1) = 0\n",
            "OR(1, -1) = 1\n",
            "OR(1, 1) = 1\n",
            "OR(-1, 1) = 1\n"
          ],
          "name": "stdout"
        }
      ]
    },
    {
      "cell_type": "code",
      "metadata": {
        "id": "QS0iWF0OLtX_"
      },
      "source": [
        ""
      ],
      "execution_count": 94,
      "outputs": []
    },
    {
      "cell_type": "code",
      "metadata": {
        "id": "wJsdF2enLta0"
      },
      "source": [
        ""
      ],
      "execution_count": 94,
      "outputs": []
    },
    {
      "cell_type": "code",
      "metadata": {
        "id": "4NYN0ev7Ltdu"
      },
      "source": [
        ""
      ],
      "execution_count": 94,
      "outputs": []
    },
    {
      "cell_type": "code",
      "metadata": {
        "id": "MLhwqN49Ltgk"
      },
      "source": [
        ""
      ],
      "execution_count": 94,
      "outputs": []
    },
    {
      "cell_type": "code",
      "metadata": {
        "id": "JkfKpZTZLtjf"
      },
      "source": [
        ""
      ],
      "execution_count": 94,
      "outputs": []
    },
    {
      "cell_type": "code",
      "metadata": {
        "id": "QcjzmIdSLtmz"
      },
      "source": [
        ""
      ],
      "execution_count": 94,
      "outputs": []
    },
    {
      "cell_type": "code",
      "metadata": {
        "id": "y9bE7z3vLtpd"
      },
      "source": [
        ""
      ],
      "execution_count": 94,
      "outputs": []
    },
    {
      "cell_type": "code",
      "metadata": {
        "id": "VovxIWmlLtsq"
      },
      "source": [
        ""
      ],
      "execution_count": 94,
      "outputs": []
    },
    {
      "cell_type": "code",
      "metadata": {
        "id": "ALL2-eHuLtwO"
      },
      "source": [
        ""
      ],
      "execution_count": 94,
      "outputs": []
    },
    {
      "cell_type": "code",
      "metadata": {
        "id": "fOC7O69BLtzm"
      },
      "source": [
        ""
      ],
      "execution_count": 94,
      "outputs": []
    },
    {
      "cell_type": "code",
      "metadata": {
        "id": "l3idR4TwLt2r"
      },
      "source": [
        ""
      ],
      "execution_count": 94,
      "outputs": []
    }
  ]
}