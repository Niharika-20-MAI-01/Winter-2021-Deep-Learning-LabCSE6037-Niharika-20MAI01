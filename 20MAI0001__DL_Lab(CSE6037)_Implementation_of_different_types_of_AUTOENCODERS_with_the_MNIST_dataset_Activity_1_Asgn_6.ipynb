{
  "nbformat": 4,
  "nbformat_minor": 0,
  "metadata": {
    "colab": {
      "name": "20MAI0001__DL-Lab(CSE6037)_Implementation_of_different-types_of_AUTOENCODERS_with_the_MNIST-dataset_Activity-1_Asgn-6.ipynb",
      "provenance": [],
      "collapsed_sections": [],
      "authorship_tag": "ABX9TyNG4oGbF4rdqcKbXFnpDeo3",
      "include_colab_link": true
    },
    "kernelspec": {
      "name": "python3",
      "display_name": "Python 3"
    },
    "language_info": {
      "name": "python"
    },
    "accelerator": "GPU"
  },
  "cells": [
    {
      "cell_type": "markdown",
      "metadata": {
        "id": "view-in-github",
        "colab_type": "text"
      },
      "source": [
        "<a href=\"https://colab.research.google.com/github/Niharika-20-MAI-01/Winter-2021-Deep-Learning-LabCSE6037-Niharika-20MAI01/blob/main/20MAI0001__DL_Lab(CSE6037)_Implementation_of_different_types_of_AUTOENCODERS_with_the_MNIST_dataset_Activity_1_Asgn_6.ipynb\" target=\"_parent\"><img src=\"https://colab.research.google.com/assets/colab-badge.svg\" alt=\"Open In Colab\"/></a>"
      ]
    },
    {
      "cell_type": "markdown",
      "metadata": {
        "id": "QsD06PfkcMZG"
      },
      "source": [
        "#DL-Lab-CSE6037_Lab-Assignment-6_Activity-1_Implementation_of_4_different-types_of_AUTOENCODERS---( a)Vanilla Autoencoder , b)Convolutional Autoencoder , c)Regularized Autoencoder , d)Multilayer Autoencoder )_with_the_MNIST-dataset.\n",
        "\n",
        "#Submitted By: 20MAI0001 - NIHARIKA MAITRA\n",
        "\n",
        "git Repo Link : "
      ]
    },
    {
      "cell_type": "code",
      "metadata": {
        "id": "vG2jAQwWfa4C"
      },
      "source": [
        ""
      ],
      "execution_count": 49,
      "outputs": []
    },
    {
      "cell_type": "code",
      "metadata": {
        "id": "PCjCUqZoapr3"
      },
      "source": [
        "#Importing necesssary libraries\n",
        "import keras\n",
        "import numpy as np\n",
        "import matplotlib.pyplot as plt\n",
        "%matplotlib inline\n",
        "\n",
        "from keras.datasets import mnist\n",
        "from keras.models import Model\n",
        "from keras.layers import Input, add\n",
        "from keras.layers.core import Lambda, Dense, Dropout, Activation, Flatten, Reshape\n",
        "from keras import regularizers\n",
        "from keras.regularizers import l2\n",
        "from keras.layers.convolutional import Conv2D, MaxPooling2D, UpSampling2D, ZeroPadding2D\n",
        "from keras.utils import np_utils"
      ],
      "execution_count": 50,
      "outputs": []
    },
    {
      "cell_type": "markdown",
      "metadata": {
        "id": "U9seDNjhtkx_"
      },
      "source": [
        "# A) Vannilla Autoeccoder:  "
      ]
    },
    {
      "cell_type": "markdown",
      "metadata": {
        "id": "2SWjFQN_fIpq"
      },
      "source": [
        "#To Load the MNIST dataset and Reshape it :"
      ]
    },
    {
      "cell_type": "code",
      "metadata": {
        "id": "n1vg7uzUb4qL"
      },
      "source": [
        "(X_train, _), (X_test, _) = mnist.load_data()"
      ],
      "execution_count": 51,
      "outputs": []
    },
    {
      "cell_type": "markdown",
      "metadata": {
        "id": "g6oIgSBGfpcM"
      },
      "source": [
        "To Reshape the Train and Test sets of the input dataset :"
      ]
    },
    {
      "cell_type": "code",
      "metadata": {
        "id": "sZCWKRt0b4H4"
      },
      "source": [
        "X_train = X_train.reshape(X_train.shape[0], 28, 28, 1)\n",
        "X_test = X_test.reshape(X_test.shape[0], 28, 28, 1)"
      ],
      "execution_count": 52,
      "outputs": []
    },
    {
      "cell_type": "markdown",
      "metadata": {
        "id": "WyHcdUKTgCH6"
      },
      "source": [
        "#To Normalize the data : \n",
        "To convert the pixels values between 0 and 1 instead of between 0 and 255"
      ]
    },
    {
      "cell_type": "code",
      "metadata": {
        "id": "MQzNHMMhapwI"
      },
      "source": [
        "X_train = X_train.astype(\"float32\")/255.\n",
        "X_test = X_test.astype(\"float32\")/255.\n",
        "\n"
      ],
      "execution_count": 53,
      "outputs": []
    },
    {
      "cell_type": "markdown",
      "metadata": {
        "id": "FH5TBj8lgtKK"
      },
      "source": [
        "To print the shape of the Train and Test sets of the input MNIST dataset :"
      ]
    },
    {
      "cell_type": "code",
      "metadata": {
        "colab": {
          "base_uri": "https://localhost:8080/"
        },
        "id": "8KdJRxfAap0G",
        "outputId": "8d27fa70-8a84-41bb-ce5a-a7c781896dd5"
      },
      "source": [
        "print('X_train shape:', X_train.shape)\n",
        "print(X_train.shape[0], 'train samples')\n",
        "print(X_test.shape[0], 'test samples')"
      ],
      "execution_count": 54,
      "outputs": [
        {
          "output_type": "stream",
          "text": [
            "X_train shape: (60000, 28, 28, 1)\n",
            "60000 train samples\n",
            "10000 test samples\n"
          ],
          "name": "stdout"
        }
      ]
    },
    {
      "cell_type": "markdown",
      "metadata": {
        "id": "Q9s4sa6Ag7WY"
      },
      "source": [
        "#To perform Flattening of the images for the Fully-Connected Networks :"
      ]
    },
    {
      "cell_type": "code",
      "metadata": {
        "id": "6yhKrQQ2ap3b"
      },
      "source": [
        "X_train = X_train.reshape((len(X_train), np.prod(X_train.shape[1:])))\n",
        "X_test = X_test.reshape((len(X_test), np.prod(X_test.shape[1:])))"
      ],
      "execution_count": 55,
      "outputs": []
    },
    {
      "cell_type": "code",
      "metadata": {
        "id": "6IeuZBqohIHp"
      },
      "source": [
        ""
      ],
      "execution_count": 55,
      "outputs": []
    },
    {
      "cell_type": "markdown",
      "metadata": {
        "id": "OcLbXTz2hIl3"
      },
      "source": [
        "# Implementation of the A) Vanilla Autoencoder :"
      ]
    },
    {
      "cell_type": "markdown",
      "metadata": {
        "id": "zvgXtZ1ihTlz"
      },
      "source": [
        "To Create the network for building the Vanilla Autoencoder : which is a simple autoencoder that has three layers : 1)Input , 2)Encoder,3) Decoder"
      ]
    },
    {
      "cell_type": "code",
      "metadata": {
        "id": "Ms3yGKS-ap6S"
      },
      "source": [
        "input_size = 784\n",
        "hidden_size = 64\n",
        "output_size = 784"
      ],
      "execution_count": 56,
      "outputs": []
    },
    {
      "cell_type": "markdown",
      "metadata": {
        "id": "SF5Q1tYmvXkG"
      },
      "source": [
        "Adding the different layers to the Vanilla Autoencoder model being developed : "
      ]
    },
    {
      "cell_type": "code",
      "metadata": {
        "id": "-yQDqGwRhSFt"
      },
      "source": [
        "#Input layer\n",
        "x = Input(shape=(input_size,))\n",
        "\n",
        "#Encoder Layer\n",
        "h = Dense(hidden_size, activation='relu')(x)\n",
        "\n",
        "#Decoder Layer\n",
        "r = Dense(output_size, activation='sigmoid')(h)\n",
        "\n",
        "#Constructing the Vanilla Autoencoder model being developed :\n",
        "vnl_autoencoder = Model(inputs=x, outputs=r)\n"
      ],
      "execution_count": 57,
      "outputs": []
    },
    {
      "cell_type": "markdown",
      "metadata": {
        "id": "K8EjZ2wkjETg"
      },
      "source": [
        "Model Summary of the Vanilla Autoencoder Model developed :"
      ]
    },
    {
      "cell_type": "code",
      "metadata": {
        "colab": {
          "base_uri": "https://localhost:8080/"
        },
        "id": "iJHPUvnsjEyf",
        "outputId": "c1a1fcfa-25a3-4478-dece-47fa5e2f0f84"
      },
      "source": [
        "#Model Summary\n",
        "vnl_autoencoder.summary()"
      ],
      "execution_count": 58,
      "outputs": [
        {
          "output_type": "stream",
          "text": [
            "Model: \"model_5\"\n",
            "_________________________________________________________________\n",
            "Layer (type)                 Output Shape              Param #   \n",
            "=================================================================\n",
            "input_4 (InputLayer)         [(None, 784)]             0         \n",
            "_________________________________________________________________\n",
            "dense_2 (Dense)              (None, 64)                50240     \n",
            "_________________________________________________________________\n",
            "dense_3 (Dense)              (None, 784)               50960     \n",
            "=================================================================\n",
            "Total params: 101,200\n",
            "Trainable params: 101,200\n",
            "Non-trainable params: 0\n",
            "_________________________________________________________________\n"
          ],
          "name": "stdout"
        }
      ]
    },
    {
      "cell_type": "markdown",
      "metadata": {
        "id": "YLyjhrK5iz9e"
      },
      "source": [
        "To Compile the Vanilla Autoencoder Model developed :"
      ]
    },
    {
      "cell_type": "code",
      "metadata": {
        "id": "6_7xuuYyap9K"
      },
      "source": [
        "vnl_autoencoder.compile(optimizer='adam', loss='mse')"
      ],
      "execution_count": 59,
      "outputs": []
    },
    {
      "cell_type": "code",
      "metadata": {
        "id": "3-tNt2wUkNgp"
      },
      "source": [
        "#save the trained model to a file so that it can be used to make predictions later :\n",
        "vnl_autoencoder.save(\"vnl.h5\")"
      ],
      "execution_count": 60,
      "outputs": []
    },
    {
      "cell_type": "code",
      "metadata": {
        "colab": {
          "base_uri": "https://localhost:8080/",
          "height": 53
        },
        "id": "bI1vElULap_u",
        "outputId": "560cc71f-41aa-46fb-e0c4-498065e947b9"
      },
      "source": [
        "'''from IPython.display import SVG\n",
        "from keras.utils.vis_utils import model_to_dot\n",
        "\n",
        "SVG(model_to_dot(vnl_autoencoder).create(prog='dot', format='svg'))'''"
      ],
      "execution_count": 61,
      "outputs": [
        {
          "output_type": "execute_result",
          "data": {
            "application/vnd.google.colaboratory.intrinsic+json": {
              "type": "string"
            },
            "text/plain": [
              "\"from IPython.display import SVG\\nfrom keras.utils.vis_utils import model_to_dot\\n\\nSVG(model_to_dot(vnl_autoencoder).create(prog='dot', format='svg'))\""
            ]
          },
          "metadata": {
            "tags": []
          },
          "execution_count": 61
        }
      ]
    },
    {
      "cell_type": "markdown",
      "metadata": {
        "id": "jSmr8WbDkUu4"
      },
      "source": [
        "#To train the Vanilla Autoencoder Model developed :"
      ]
    },
    {
      "cell_type": "code",
      "metadata": {
        "colab": {
          "base_uri": "https://localhost:8080/"
        },
        "id": "G0fr5GoYaqDr",
        "outputId": "89a9b60e-d103-47bd-bd83-6a167e2c4385"
      },
      "source": [
        "epochs = 5\n",
        "batch_size = 128\n",
        "\n",
        "history = vnl_autoencoder.fit(X_train, X_train, batch_size=batch_size, epochs=epochs, verbose=1, validation_data=(X_test, X_test))"
      ],
      "execution_count": 62,
      "outputs": [
        {
          "output_type": "stream",
          "text": [
            "Epoch 1/5\n",
            "469/469 [==============================] - 2s 3ms/step - loss: 0.0735 - val_loss: 0.0214\n",
            "Epoch 2/5\n",
            "469/469 [==============================] - 1s 3ms/step - loss: 0.0189 - val_loss: 0.0125\n",
            "Epoch 3/5\n",
            "469/469 [==============================] - 1s 3ms/step - loss: 0.0115 - val_loss: 0.0085\n",
            "Epoch 4/5\n",
            "469/469 [==============================] - 1s 3ms/step - loss: 0.0082 - val_loss: 0.0066\n",
            "Epoch 5/5\n",
            "469/469 [==============================] - 1s 3ms/step - loss: 0.0064 - val_loss: 0.0055\n"
          ],
          "name": "stdout"
        }
      ]
    },
    {
      "cell_type": "markdown",
      "metadata": {
        "id": "ke_9GBT5knzv"
      },
      "source": [
        "To plot a few predictions made by the developed Vanilla Autoencoder Model on the Test set of the MNIST dataset :"
      ]
    },
    {
      "cell_type": "code",
      "metadata": {
        "colab": {
          "base_uri": "https://localhost:8080/",
          "height": 413
        },
        "id": "V-qAxfrgkcgD",
        "outputId": "f51484d8-e2f0-4f2c-d8e2-ac57ff333d64"
      },
      "source": [
        "vnl_encoder = Model(x, h)\n",
        "encoded_imgs1 = vnl_encoder.predict(X_test)\n",
        "\n",
        "n = 10\n",
        "plt.figure(figsize=(20, 8))\n",
        "for i in range(n):\n",
        "    ax = plt.subplot(1, n, i+1)\n",
        "    plt.imshow(encoded_imgs1[i].reshape(4, 16).T)\n",
        "    plt.gray()\n",
        "    ax.get_xaxis().set_visible(False)\n",
        "    ax.get_yaxis().set_visible(False)\n",
        "plt.show()"
      ],
      "execution_count": 63,
      "outputs": [
        {
          "output_type": "display_data",
          "data": {
            "image/png": "[encoded data removed]",
            "text/plain": [
              "<Figure size 1440x576 with 10 Axes>"
            ]
          },
          "metadata": {
            "tags": [],
            "needs_background": "light"
          }
        }
      ]
    },
    {
      "cell_type": "code",
      "metadata": {
        "id": "NJsic5GhoLxU"
      },
      "source": [
        ""
      ],
      "execution_count": 63,
      "outputs": []
    },
    {
      "cell_type": "markdown",
      "metadata": {
        "id": "gbWvTQUKlX49"
      },
      "source": [
        "Predictions made by the developed Vanilla Autoencoder Model on the Test set of the MNIST dataset :"
      ]
    },
    {
      "cell_type": "code",
      "metadata": {
        "id": "-3B0vVtXkci5"
      },
      "source": [
        "decoded_imgs1 = vnl_autoencoder.predict(X_test)"
      ],
      "execution_count": 64,
      "outputs": []
    },
    {
      "cell_type": "markdown",
      "metadata": {
        "id": "YPAbwIPxnN6e"
      },
      "source": [
        "To Plot the Original/Actual  Test set imagaes of the MNIST dataset :"
      ]
    },
    {
      "cell_type": "code",
      "metadata": {
        "colab": {
          "base_uri": "https://localhost:8080/",
          "height": 129
        },
        "id": "h7-y-IOikclg",
        "outputId": "60d52d88-9e40-4ee6-b339-13c443d51c74"
      },
      "source": [
        "n = 10\n",
        "plt.figure(figsize=(20, 6))\n",
        "for i in range(n):\n",
        "    # display original\n",
        "    ax = plt.subplot(3, n, i+1)\n",
        "    plt.imshow(X_test[i].reshape(28, 28))\n",
        "    plt.gray()\n",
        "    ax.get_xaxis().set_visible(False)\n",
        "    ax.get_yaxis().set_visible(False)"
      ],
      "execution_count": 65,
      "outputs": [
        {
          "output_type": "display_data",
          "data": {
            "image/png": "[encoded data removed]",
            "text/plain": [
              "<Figure size 1440x432 with 10 Axes>"
            ]
          },
          "metadata": {
            "tags": [],
            "needs_background": "light"
          }
        }
      ]
    },
    {
      "cell_type": "markdown",
      "metadata": {
        "id": "PdU8kqe3l8rM"
      },
      "source": [
        "To Plot the predicted Output images of the developed Vanilla Autoencoder Model implemented on the Test set of the MNIST dataset :"
      ]
    },
    {
      "cell_type": "code",
      "metadata": {
        "colab": {
          "base_uri": "https://localhost:8080/",
          "height": 129
        },
        "id": "2yq27lm8kcqf",
        "outputId": "6ee5f1c1-bd1a-437f-a010-94c748ffb58c"
      },
      "source": [
        "n = 10\n",
        "plt.figure(figsize=(20, 6))\n",
        "for i in range(n):\n",
        "# display reconstruction\n",
        "    ax = plt.subplot(3, n, i+n+1)\n",
        "    plt.imshow(decoded_imgs1[i].reshape(28, 28))\n",
        "    plt.gray()\n",
        "    ax.get_xaxis().set_visible(False)\n",
        "    ax.get_yaxis().set_visible(False)\n",
        "    \n",
        "plt.show()"
      ],
      "execution_count": 66,
      "outputs": [
        {
          "output_type": "display_data",
          "data": {
            "image/png": "[encoded data removed]",
            "text/plain": [
              "<Figure size 1440x432 with 10 Axes>"
            ]
          },
          "metadata": {
            "tags": [],
            "needs_background": "light"
          }
        }
      ]
    },
    {
      "cell_type": "code",
      "metadata": {
        "id": "QKPjBN-Akcs3"
      },
      "source": [
        ""
      ],
      "execution_count": 66,
      "outputs": []
    },
    {
      "cell_type": "markdown",
      "metadata": {
        "id": "wEg4soMAoSED"
      },
      "source": [
        "#To Plot the losses of the developed Vanilla Autoencoder Model implemented on the Test set of the MNIST dataset :"
      ]
    },
    {
      "cell_type": "code",
      "metadata": {
        "colab": {
          "base_uri": "https://localhost:8080/",
          "height": 313
        },
        "id": "jyWIS12Wkcvc",
        "outputId": "38738f35-e400-48b9-9f3a-6712e52c7d77"
      },
      "source": [
        "print(history.history.keys())\n",
        "\n",
        "plt.plot(history.history['loss'])\n",
        "plt.plot(history.history['val_loss'])\n",
        "plt.title('model loss')\n",
        "plt.ylabel('loss')\n",
        "plt.xlabel('epoch')\n",
        "plt.legend(['train', 'validation'], loc='upper right')\n",
        "plt.show()"
      ],
      "execution_count": 67,
      "outputs": [
        {
          "output_type": "stream",
          "text": [
            "dict_keys(['loss', 'val_loss'])\n"
          ],
          "name": "stdout"
        },
        {
          "output_type": "display_data",
          "data": {
            "image/png": "[encoded data removed]",
            "text/plain": [
              "<Figure size 432x288 with 1 Axes>"
            ]
          },
          "metadata": {
            "tags": [],
            "needs_background": "light"
          }
        }
      ]
    },
    {
      "cell_type": "code",
      "metadata": {
        "id": "-abOydcYoO3x"
      },
      "source": [
        ""
      ],
      "execution_count": 67,
      "outputs": []
    },
    {
      "cell_type": "markdown",
      "metadata": {
        "id": "3ZQSX2gUob5S"
      },
      "source": [
        "#B) Convolutional Autoencoder : \n",
        "This network model does not take flattened vectors as an input but images"
      ]
    },
    {
      "cell_type": "markdown",
      "metadata": {
        "id": "XMeQjlFVpUhl"
      },
      "source": [
        "#To Load the MNIST dataset and Reshape it :"
      ]
    },
    {
      "cell_type": "code",
      "metadata": {
        "id": "kLyvdsUloO6V"
      },
      "source": [
        "nb_classes = 10\n",
        "\n",
        "(X_train, y_train), (X_test, y_test) = mnist.load_data()\n"
      ],
      "execution_count": 68,
      "outputs": []
    },
    {
      "cell_type": "markdown",
      "metadata": {
        "id": "t00L-lohqE8R"
      },
      "source": [
        "To Reshape the Train and Test sets of the input dataset :"
      ]
    },
    {
      "cell_type": "code",
      "metadata": {
        "id": "rzRX-oeGoO82"
      },
      "source": [
        "X_train = X_train.reshape(X_train.shape[0], 28, 28, 1)\n",
        "X_test = X_test.reshape(X_test.shape[0], 28, 28, 1)"
      ],
      "execution_count": 69,
      "outputs": []
    },
    {
      "cell_type": "markdown",
      "metadata": {
        "id": "w5Vvz0DVqYII"
      },
      "source": [
        "#To Normalize the data :\n",
        "\n",
        "To convert the pixels values between 0 and 1 instead of between 0 and 255"
      ]
    },
    {
      "cell_type": "code",
      "metadata": {
        "id": "4cdWX-JGoO_f"
      },
      "source": [
        "X_train = X_train.astype(\"float32\")/255.\n",
        "X_test = X_test.astype(\"float32\")/255."
      ],
      "execution_count": 70,
      "outputs": []
    },
    {
      "cell_type": "markdown",
      "metadata": {
        "id": "loWG7FzGq5y6"
      },
      "source": [
        "To print the shape of the Train and Test sets of the input MNIST dataset :"
      ]
    },
    {
      "cell_type": "code",
      "metadata": {
        "id": "Q1tCvM8RoPCT",
        "colab": {
          "base_uri": "https://localhost:8080/"
        },
        "outputId": "745a588d-5773-4445-a995-7d3862cdfb32"
      },
      "source": [
        "print('X_train shape:', X_train.shape)\n",
        "print(X_train.shape[0], 'train samples')\n",
        "print(X_test.shape[0], 'test samples')"
      ],
      "execution_count": 71,
      "outputs": [
        {
          "output_type": "stream",
          "text": [
            "X_train shape: (60000, 28, 28, 1)\n",
            "60000 train samples\n",
            "10000 test samples\n"
          ],
          "name": "stdout"
        }
      ]
    },
    {
      "cell_type": "markdown",
      "metadata": {
        "id": "A3D8xIQotE9K"
      },
      "source": [
        "To convert integer values of the Predictor (Y) variable for both train and test sets into binary values :"
      ]
    },
    {
      "cell_type": "code",
      "metadata": {
        "id": "EQ9exYByoPEp"
      },
      "source": [
        "Y_train = np_utils.to_categorical(y_train, nb_classes)\n",
        "Y_test = np_utils.to_categorical(y_test, nb_classes)"
      ],
      "execution_count": 72,
      "outputs": []
    },
    {
      "cell_type": "code",
      "metadata": {
        "id": "NI5Vj96GoPHQ"
      },
      "source": [
        ""
      ],
      "execution_count": 72,
      "outputs": []
    },
    {
      "cell_type": "markdown",
      "metadata": {
        "id": "Fu0Gnbj4tRzA"
      },
      "source": [
        "#Implementation of the B) Convolutional Autoencoder :"
      ]
    },
    {
      "cell_type": "markdown",
      "metadata": {
        "id": "0MQLOaHKuNMy"
      },
      "source": [
        "To Create the network for building the Convolutional Autoencoder : which has three main layers : 1)Input , 2)Encoder,3) Decoder"
      ]
    },
    {
      "cell_type": "code",
      "metadata": {
        "id": "F5RDntfLoPJt"
      },
      "source": [
        "#Input Section of the Convolutional Autoencoder :\n",
        "x = Input(shape=(28, 28,1)) "
      ],
      "execution_count": 73,
      "outputs": []
    },
    {
      "cell_type": "markdown",
      "metadata": {
        "id": "M_usQ-1yvNSn"
      },
      "source": [
        "# Adding the different layers to the Convolutional Autoencoder being developed : "
      ]
    },
    {
      "cell_type": "markdown",
      "metadata": {
        "id": "79j6tFB_uuHG"
      },
      "source": [
        "Encoder Section of the Convolutional Autoencoder :"
      ]
    },
    {
      "cell_type": "code",
      "metadata": {
        "id": "J6gqx_P4tY8x"
      },
      "source": [
        "#1st Convolutional Layer\n",
        "conv1_1 = Conv2D(16, (3, 3), activation='relu', padding='same')(x)\n",
        "pool1 = MaxPooling2D((2, 2), padding='same')(conv1_1)\n",
        "\n",
        "#2nd Convolutional Layer\n",
        "conv1_2 = Conv2D(8, (3, 3), activation='relu', padding='same')(pool1)\n",
        "pool2 = MaxPooling2D((2, 2), padding='same')(conv1_2)\n",
        "\n",
        "#3rd Convolutional Layer\n",
        "conv1_3 = Conv2D(8, (3, 3), activation='relu', padding='same')(pool2)\n",
        "\n",
        "#Output Layer\n",
        "h = MaxPooling2D((2, 2), padding='same')(conv1_3)"
      ],
      "execution_count": 74,
      "outputs": []
    },
    {
      "cell_type": "code",
      "metadata": {
        "id": "4TD4VnlHxAfq"
      },
      "source": [
        ""
      ],
      "execution_count": 74,
      "outputs": []
    },
    {
      "cell_type": "markdown",
      "metadata": {
        "id": "y1czQGiSuvAQ"
      },
      "source": [
        "Decoder Section of the Convolutional Autoencoder :"
      ]
    },
    {
      "cell_type": "code",
      "metadata": {
        "id": "vJpUWKCKtY_Y"
      },
      "source": [
        "#1st Convolutional Layer\n",
        "conv2_1 = Conv2D(8, (3, 3), activation='relu', padding='same')(h)\n",
        "up1 = UpSampling2D((2, 2))(conv2_1)\n",
        "\n",
        "#2nd Convolutional Layer\n",
        "conv2_2 = Conv2D(8, (3, 3), activation='relu', padding='same')(up1)\n",
        "up2 = UpSampling2D((2, 2))(conv2_2)\n",
        "\n",
        "#3rd Convolutional Layer\n",
        "conv2_3 = Conv2D(16, (3, 3), activation='relu')(up2)\n",
        "up3 = UpSampling2D((2, 2))(conv2_3)\n",
        "\n",
        "#Output Layer\n",
        "r = Conv2D(1, (3, 3), activation='sigmoid', padding='same')(up3)\n"
      ],
      "execution_count": 75,
      "outputs": []
    },
    {
      "cell_type": "code",
      "metadata": {
        "id": "mjRx_nfAtZB-"
      },
      "source": [
        "#Constructing the Convolutional Autoencoder model being developed :\n",
        "cnv_autoencoder = Model(inputs=x, outputs=r)"
      ],
      "execution_count": 76,
      "outputs": []
    },
    {
      "cell_type": "markdown",
      "metadata": {
        "id": "NK5EqLUmys29"
      },
      "source": [
        "Model Summary of the Convolutional Autoencoder Model developed :"
      ]
    },
    {
      "cell_type": "code",
      "metadata": {
        "colab": {
          "base_uri": "https://localhost:8080/"
        },
        "id": "TL2j2zdkyhFJ",
        "outputId": "84e6a7ec-6aa5-4a72-fbc3-4827a4556d8d"
      },
      "source": [
        "##Model Summary\n",
        "cnv_autoencoder.summary()"
      ],
      "execution_count": 77,
      "outputs": [
        {
          "output_type": "stream",
          "text": [
            "Model: \"model_7\"\n",
            "_________________________________________________________________\n",
            "Layer (type)                 Output Shape              Param #   \n",
            "=================================================================\n",
            "input_5 (InputLayer)         [(None, 28, 28, 1)]       0         \n",
            "_________________________________________________________________\n",
            "conv2d_14 (Conv2D)           (None, 28, 28, 16)        160       \n",
            "_________________________________________________________________\n",
            "max_pooling2d_6 (MaxPooling2 (None, 14, 14, 16)        0         \n",
            "_________________________________________________________________\n",
            "conv2d_15 (Conv2D)           (None, 14, 14, 8)         1160      \n",
            "_________________________________________________________________\n",
            "max_pooling2d_7 (MaxPooling2 (None, 7, 7, 8)           0         \n",
            "_________________________________________________________________\n",
            "conv2d_16 (Conv2D)           (None, 7, 7, 8)           584       \n",
            "_________________________________________________________________\n",
            "max_pooling2d_8 (MaxPooling2 (None, 4, 4, 8)           0         \n",
            "_________________________________________________________________\n",
            "conv2d_17 (Conv2D)           (None, 4, 4, 8)           584       \n",
            "_________________________________________________________________\n",
            "up_sampling2d_6 (UpSampling2 (None, 8, 8, 8)           0         \n",
            "_________________________________________________________________\n",
            "conv2d_18 (Conv2D)           (None, 8, 8, 8)           584       \n",
            "_________________________________________________________________\n",
            "up_sampling2d_7 (UpSampling2 (None, 16, 16, 8)         0         \n",
            "_________________________________________________________________\n",
            "conv2d_19 (Conv2D)           (None, 14, 14, 16)        1168      \n",
            "_________________________________________________________________\n",
            "up_sampling2d_8 (UpSampling2 (None, 28, 28, 16)        0         \n",
            "_________________________________________________________________\n",
            "conv2d_20 (Conv2D)           (None, 28, 28, 1)         145       \n",
            "=================================================================\n",
            "Total params: 4,385\n",
            "Trainable params: 4,385\n",
            "Non-trainable params: 0\n",
            "_________________________________________________________________\n"
          ],
          "name": "stdout"
        }
      ]
    },
    {
      "cell_type": "code",
      "metadata": {
        "id": "hf8v9AEbyg9P"
      },
      "source": [
        ""
      ],
      "execution_count": 77,
      "outputs": []
    },
    {
      "cell_type": "markdown",
      "metadata": {
        "id": "SRuczk7mzcpH"
      },
      "source": [
        "To Compile the Convolutional Autoencoder Model developed :"
      ]
    },
    {
      "cell_type": "code",
      "metadata": {
        "id": "yglYX_IstZHL"
      },
      "source": [
        "cnv_autoencoder.compile(optimizer='adam', loss='binary_crossentropy')"
      ],
      "execution_count": 78,
      "outputs": []
    },
    {
      "cell_type": "code",
      "metadata": {
        "id": "v-D4rn3QtZKE"
      },
      "source": [
        "#save the trained model to a file so that it can be used to make predictions later :\n",
        "cnv_autoencoder.save(\"cnv.h5\")"
      ],
      "execution_count": 79,
      "outputs": []
    },
    {
      "cell_type": "code",
      "metadata": {
        "id": "B0qKNxPgtZMh"
      },
      "source": [
        ""
      ],
      "execution_count": 79,
      "outputs": []
    },
    {
      "cell_type": "markdown",
      "metadata": {
        "id": "31PafFRN0mfy"
      },
      "source": [
        "#To train the Convolutional Autoencoder Model developed :"
      ]
    },
    {
      "cell_type": "code",
      "metadata": {
        "id": "hYY3uijctZO1",
        "colab": {
          "base_uri": "https://localhost:8080/"
        },
        "outputId": "99d02ecd-c8cb-4808-ebbe-661482664121"
      },
      "source": [
        "epochs = 3\n",
        "batch_size = 128\n",
        "\n",
        "history = cnv_autoencoder.fit(X_train, X_train, batch_size=batch_size, epochs=epochs, verbose=1, validation_data=(X_test, X_test))"
      ],
      "execution_count": 80,
      "outputs": [
        {
          "output_type": "stream",
          "text": [
            "Epoch 1/3\n",
            "469/469 [==============================] - 3s 6ms/step - loss: 0.3770 - val_loss: 0.1501\n",
            "Epoch 2/3\n",
            "469/469 [==============================] - 3s 6ms/step - loss: 0.1432 - val_loss: 0.1278\n",
            "Epoch 3/3\n",
            "469/469 [==============================] - 3s 6ms/step - loss: 0.1267 - val_loss: 0.1196\n"
          ],
          "name": "stdout"
        }
      ]
    },
    {
      "cell_type": "code",
      "metadata": {
        "id": "83fyGJHqkczF"
      },
      "source": [
        ""
      ],
      "execution_count": 80,
      "outputs": []
    },
    {
      "cell_type": "markdown",
      "metadata": {
        "id": "az8nwgXz6AmD"
      },
      "source": [
        "To plot a few predictions made by the developed Convolutional Autoencoder Model on the Test set of the MNIST dataset :"
      ]
    },
    {
      "cell_type": "code",
      "metadata": {
        "colab": {
          "base_uri": "https://localhost:8080/",
          "height": 46
        },
        "id": "T-4Wq3Pr5cMH",
        "outputId": "d2ddb75b-961e-4d77-8995-3575c2ee78f3"
      },
      "source": [
        "#conv_encoder = Model(x, h)\n",
        "#encoded_imgs2 = conv_encoder.predict(X_test)\n",
        "decoded_imgs2 = cnv_autoencoder.predict(X_test)\n",
        "\n",
        "n = 10\n",
        "plt.figure(figsize=(20, 8))\n",
        "for i in range(n):\n",
        "    ax = plt.subplot(1, n, i+1)\n",
        "    plt.imshow(encoded_imgs2[i].reshape(4, 16, -1).T)\n",
        "    plt.gray()\n",
        "    ax.get_xaxis().set_visible(False)\n",
        "    ax.get_yaxis().set_visible(False)\n",
        "plt.show()"
      ],
      "execution_count": 81,
      "outputs": [
        {
          "output_type": "display_data",
          "data": {
            "image/png": "[encoded data removed]",
            "text/plain": [
              "<Figure size 1440x576 with 10 Axes>"
            ]
          },
          "metadata": {
            "tags": [],
            "needs_background": "light"
          }
        }
      ]
    },
    {
      "cell_type": "markdown",
      "metadata": {
        "id": "DOVK6Pa-1BTS"
      },
      "source": [
        "Predictions made by the developed Convolutional Autoencoder Model on the Test set of the MNIST dataset :"
      ]
    },
    {
      "cell_type": "code",
      "metadata": {
        "id": "btT8IOiz0uxL"
      },
      "source": [
        "decoded_imgs2 = cnv_autoencoder.predict(X_test)"
      ],
      "execution_count": 82,
      "outputs": []
    },
    {
      "cell_type": "markdown",
      "metadata": {
        "id": "TjAiY4Qy1aIH"
      },
      "source": [
        "To Plot the Original/Actual Test set imagaes of the MNIST dataset :"
      ]
    },
    {
      "cell_type": "code",
      "metadata": {
        "colab": {
          "base_uri": "https://localhost:8080/",
          "height": 129
        },
        "id": "CB3i_NEN0uz2",
        "outputId": "fd586a4b-1e8e-4d52-a032-3e1e9fb8a6ea"
      },
      "source": [
        "n = 10\n",
        "plt.figure(figsize=(20, 6))\n",
        "\n",
        "for i in range(n):\n",
        "    # display original\n",
        "    ax = plt.subplot(3, n, i+1)\n",
        "    plt.imshow(X_test[i].reshape(28, 28))\n",
        "    plt.gray()\n",
        "    ax.get_xaxis().set_visible(False)\n",
        "    ax.get_yaxis().set_visible(False)\n",
        "\n",
        "plt.show()"
      ],
      "execution_count": 83,
      "outputs": [
        {
          "output_type": "display_data",
          "data": {
            "image/png": "[encoded data removed]",
            "text/plain": [
              "<Figure size 1440x432 with 10 Axes>"
            ]
          },
          "metadata": {
            "tags": [],
            "needs_background": "light"
          }
        }
      ]
    },
    {
      "cell_type": "markdown",
      "metadata": {
        "id": "ZPqVhLzw1xDL"
      },
      "source": [
        "To Plot the predicted Output images of the developed Convolutional Autoencoder Model implemented on the Test set of the MNIST dataset :"
      ]
    },
    {
      "cell_type": "code",
      "metadata": {
        "colab": {
          "base_uri": "https://localhost:8080/",
          "height": 129
        },
        "id": "XfLjYQ_F0u2X",
        "outputId": "8d8eb2e7-e95d-406f-d11d-fd51a859fa91"
      },
      "source": [
        "n = 10\n",
        "plt.figure(figsize=(20, 6))\n",
        "\n",
        "for i in range(n):\n",
        "    # display reconstruction\n",
        "    ax = plt.subplot(3, n, i+n+1)\n",
        "    plt.imshow(decoded_imgs2[i].reshape(28, 28))\n",
        "    plt.gray()\n",
        "    ax.get_xaxis().set_visible(False)\n",
        "    ax.get_yaxis().set_visible(False)\n",
        "\n",
        "plt.show()"
      ],
      "execution_count": 84,
      "outputs": [
        {
          "output_type": "display_data",
          "data": {
            "image/png": "[encoded data removed]",
            "text/plain": [
              "<Figure size 1440x432 with 10 Axes>"
            ]
          },
          "metadata": {
            "tags": [],
            "needs_background": "light"
          }
        }
      ]
    },
    {
      "cell_type": "code",
      "metadata": {
        "id": "IYVlN0mE0u5J"
      },
      "source": [
        ""
      ],
      "execution_count": 84,
      "outputs": []
    },
    {
      "cell_type": "markdown",
      "metadata": {
        "id": "ND2J8CCW3W6k"
      },
      "source": [
        "To Plot the losses of the developed Convolutional Autoencoder Model implemented on the Test set of the MNIST dataset :"
      ]
    },
    {
      "cell_type": "code",
      "metadata": {
        "colab": {
          "base_uri": "https://localhost:8080/",
          "height": 313
        },
        "id": "OGZU34ay0u8A",
        "outputId": "89e0a095-2f9a-4ea0-8ba1-2fdf072ea2f4"
      },
      "source": [
        "print(history.history.keys())\n",
        "\n",
        "plt.plot(history.history['loss'])\n",
        "plt.plot(history.history['val_loss'])\n",
        "plt.title('model loss')\n",
        "plt.ylabel('loss')\n",
        "plt.xlabel('epoch')\n",
        "plt.legend(['train', 'validation'], loc='upper right')\n",
        "plt.show()"
      ],
      "execution_count": 85,
      "outputs": [
        {
          "output_type": "stream",
          "text": [
            "dict_keys(['loss', 'val_loss'])\n"
          ],
          "name": "stdout"
        },
        {
          "output_type": "display_data",
          "data": {
            "image/png": "[encoded data removed]",
            "text/plain": [
              "<Figure size 432x288 with 1 Axes>"
            ]
          },
          "metadata": {
            "tags": [],
            "needs_background": "light"
          }
        }
      ]
    },
    {
      "cell_type": "code",
      "metadata": {
        "id": "CSfGhg-C0u-5"
      },
      "source": [
        ""
      ],
      "execution_count": 85,
      "outputs": []
    },
    {
      "cell_type": "code",
      "metadata": {
        "id": "Ea5w-7Y40vBk"
      },
      "source": [
        ""
      ],
      "execution_count": 85,
      "outputs": []
    },
    {
      "cell_type": "code",
      "metadata": {
        "id": "TLsPMI2F0vEV"
      },
      "source": [
        ""
      ],
      "execution_count": 85,
      "outputs": []
    },
    {
      "cell_type": "markdown",
      "metadata": {
        "id": "yKsLw9krbzE1"
      },
      "source": [
        ""
      ]
    }
  ]
}