{
  "nbformat": 4,
  "nbformat_minor": 0,
  "metadata": {
    "colab": {
      "name": "20MAI0001__DL-Lab(CSE6037)_Implementation_of_different-types_of_AUTOENCODERS_with_the_MNIST-dataset_Activity-1_Asgn-6.ipynb",
      "provenance": [],
      "collapsed_sections": [],
      "authorship_tag": "ABX9TyMK8lEY3YO4N7OVgQ9h0GBT",
      "include_colab_link": true
    },
    "kernelspec": {
      "name": "python3",
      "display_name": "Python 3"
    },
    "language_info": {
      "name": "python"
    },
    "accelerator": "GPU"
  },
  "cells": [
    {
      "cell_type": "markdown",
      "metadata": {
        "id": "view-in-github",
        "colab_type": "text"
      },
      "source": [
        "<a href=\"https://colab.research.google.com/github/Niharika-20-MAI-01/Winter-2021-Deep-Learning-LabCSE6037-Niharika-20MAI01/blob/main/20MAI0001__DL_Lab(CSE6037)_Implementation_of_different_types_of_AUTOENCODERS_with_the_MNIST_dataset_Activity_1_Asgn_6.ipynb\" target=\"_parent\"><img src=\"https://colab.research.google.com/assets/colab-badge.svg\" alt=\"Open In Colab\"/></a>"
      ]
    },
    {
      "cell_type": "markdown",
      "metadata": {
        "id": "QsD06PfkcMZG"
      },
      "source": [
        "#DL-Lab-CSE6037_Lab-Assignment-6_Activity-1_Implementation_of_4_different-types_of_AUTOENCODERS---( a)Vanilla Autoencoder , b)Convolutional Autoencoder , c)Regularized Autoencoder , d)Multilayer Autoencoder )_with_the_MNIST-dataset.\n",
        "\n",
        "#Submitted By: 20MAI0001 - NIHARIKA MAITRA\n",
        "\n",
        "git Repo Link : "
      ]
    },
    {
      "cell_type": "code",
      "metadata": {
        "id": "vG2jAQwWfa4C"
      },
      "source": [
        ""
      ],
      "execution_count": null,
      "outputs": []
    },
    {
      "cell_type": "code",
      "metadata": {
        "id": "PCjCUqZoapr3"
      },
      "source": [
        "#Importing necesssary libraries\n",
        "import keras\n",
        "import numpy as np\n",
        "import matplotlib.pyplot as plt\n",
        "%matplotlib inline\n",
        "\n",
        "from keras.datasets import mnist\n",
        "from keras.models import Model\n",
        "from keras.layers import Input, add\n",
        "from keras.layers.core import Lambda, Dense, Dropout, Activation, Flatten, Reshape\n",
        "from keras import regularizers\n",
        "from keras.regularizers import l2\n",
        "from keras.layers.convolutional import Conv2D, MaxPooling2D, UpSampling2D, ZeroPadding2D\n",
        "from keras.utils import np_utils"
      ],
      "execution_count": 2,
      "outputs": []
    },
    {
      "cell_type": "markdown",
      "metadata": {
        "id": "2SWjFQN_fIpq"
      },
      "source": [
        "#To Load the MNIST dataset and Reshape it ;"
      ]
    },
    {
      "cell_type": "code",
      "metadata": {
        "colab": {
          "base_uri": "https://localhost:8080/"
        },
        "id": "n1vg7uzUb4qL",
        "outputId": "a914c74d-cba7-4b31-ab01-85457700b94b"
      },
      "source": [
        "(X_train, _), (X_test, _) = mnist.load_data()"
      ],
      "execution_count": 3,
      "outputs": [
        {
          "output_type": "stream",
          "text": [
            "Downloading data from https://storage.googleapis.com/tensorflow/tf-keras-datasets/mnist.npz\n",
            "11493376/11490434 [==============================] - 0s 0us/step\n"
          ],
          "name": "stdout"
        }
      ]
    },
    {
      "cell_type": "markdown",
      "metadata": {
        "id": "g6oIgSBGfpcM"
      },
      "source": [
        "To Reshape the Train and test sets of the input dataset :"
      ]
    },
    {
      "cell_type": "code",
      "metadata": {
        "id": "sZCWKRt0b4H4"
      },
      "source": [
        "X_train = X_train.reshape(X_train.shape[0], 28, 28, 1)\n",
        "X_test = X_test.reshape(X_test.shape[0], 28, 28, 1)"
      ],
      "execution_count": 4,
      "outputs": []
    },
    {
      "cell_type": "markdown",
      "metadata": {
        "id": "WyHcdUKTgCH6"
      },
      "source": [
        "#To Normalize the data : \n",
        "To convert the pixels values between 0 and 1 instead of between 0 and 255"
      ]
    },
    {
      "cell_type": "code",
      "metadata": {
        "id": "MQzNHMMhapwI"
      },
      "source": [
        "X_train = X_train.astype(\"float32\")/255.\n",
        "X_test = X_test.astype(\"float32\")/255.\n",
        "\n"
      ],
      "execution_count": 5,
      "outputs": []
    },
    {
      "cell_type": "markdown",
      "metadata": {
        "id": "FH5TBj8lgtKK"
      },
      "source": [
        "To print the shape of the Train and Test sets of the input MNIST dataset :"
      ]
    },
    {
      "cell_type": "code",
      "metadata": {
        "colab": {
          "base_uri": "https://localhost:8080/"
        },
        "id": "8KdJRxfAap0G",
        "outputId": "8961efa6-2375-4b4c-b995-07fa6304a24c"
      },
      "source": [
        "print('X_train shape:', X_train.shape)\n",
        "print(X_train.shape[0], 'train samples')\n",
        "print(X_test.shape[0], 'test samples')"
      ],
      "execution_count": 6,
      "outputs": [
        {
          "output_type": "stream",
          "text": [
            "X_train shape: (60000, 28, 28, 1)\n",
            "60000 train samples\n",
            "10000 test samples\n"
          ],
          "name": "stdout"
        }
      ]
    },
    {
      "cell_type": "markdown",
      "metadata": {
        "id": "Q9s4sa6Ag7WY"
      },
      "source": [
        "#To perform Flattening of the images for the Fully-Connected Networks :"
      ]
    },
    {
      "cell_type": "code",
      "metadata": {
        "id": "6yhKrQQ2ap3b"
      },
      "source": [
        "X_train = X_train.reshape((len(X_train), np.prod(X_train.shape[1:])))\n",
        "X_test = X_test.reshape((len(X_test), np.prod(X_test.shape[1:])))"
      ],
      "execution_count": 7,
      "outputs": []
    },
    {
      "cell_type": "code",
      "metadata": {
        "id": "6IeuZBqohIHp"
      },
      "source": [
        ""
      ],
      "execution_count": 7,
      "outputs": []
    },
    {
      "cell_type": "markdown",
      "metadata": {
        "id": "OcLbXTz2hIl3"
      },
      "source": [
        "# Implementation of the Vanilla Autoencoder :"
      ]
    },
    {
      "cell_type": "markdown",
      "metadata": {
        "id": "zvgXtZ1ihTlz"
      },
      "source": [
        "To Create the network for building the Vanilla Autoencoder : which is a simple autoencoder that has three layers : 1)Input , 2)encoded,3) decoded"
      ]
    },
    {
      "cell_type": "code",
      "metadata": {
        "id": "Ms3yGKS-ap6S"
      },
      "source": [
        "input_size = 784\n",
        "hidden_size = 64\n",
        "output_size = 784"
      ],
      "execution_count": 8,
      "outputs": []
    },
    {
      "cell_type": "code",
      "metadata": {
        "id": "-yQDqGwRhSFt"
      },
      "source": [
        "x = Input(shape=(input_size,))\n",
        "h = Dense(hidden_size, activation='relu')(x)\n",
        "r = Dense(output_size, activation='sigmoid')(h)\n",
        "\n",
        "vnl_autoencoder = Model(inputs=x, outputs=r)\n"
      ],
      "execution_count": 9,
      "outputs": []
    },
    {
      "cell_type": "markdown",
      "metadata": {
        "id": "K8EjZ2wkjETg"
      },
      "source": [
        "Model Summary of the Vanilla Autoencoder Model developed :"
      ]
    },
    {
      "cell_type": "code",
      "metadata": {
        "colab": {
          "base_uri": "https://localhost:8080/"
        },
        "id": "iJHPUvnsjEyf",
        "outputId": "ea8085c8-5780-4705-8645-a66d8e31e103"
      },
      "source": [
        "#Model Summary\n",
        "vnl_autoencoder.summary()"
      ],
      "execution_count": 10,
      "outputs": [
        {
          "output_type": "stream",
          "text": [
            "Model: \"model\"\n",
            "_________________________________________________________________\n",
            "Layer (type)                 Output Shape              Param #   \n",
            "=================================================================\n",
            "input_1 (InputLayer)         [(None, 784)]             0         \n",
            "_________________________________________________________________\n",
            "dense (Dense)                (None, 64)                50240     \n",
            "_________________________________________________________________\n",
            "dense_1 (Dense)              (None, 784)               50960     \n",
            "=================================================================\n",
            "Total params: 101,200\n",
            "Trainable params: 101,200\n",
            "Non-trainable params: 0\n",
            "_________________________________________________________________\n"
          ],
          "name": "stdout"
        }
      ]
    },
    {
      "cell_type": "markdown",
      "metadata": {
        "id": "YLyjhrK5iz9e"
      },
      "source": [
        "To Compile the Vanilla Autoencoder Model developed :"
      ]
    },
    {
      "cell_type": "code",
      "metadata": {
        "id": "6_7xuuYyap9K"
      },
      "source": [
        "vnl_autoencoder.compile(optimizer='adam', loss='mse')"
      ],
      "execution_count": 11,
      "outputs": []
    },
    {
      "cell_type": "code",
      "metadata": {
        "id": "3-tNt2wUkNgp"
      },
      "source": [
        "#save the trained model to a file so that it can be used to make predictions later :\n",
        "vnl_autoencoder.save(\"vnl_autoencoder.h5\")"
      ],
      "execution_count": 12,
      "outputs": []
    },
    {
      "cell_type": "code",
      "metadata": {
        "colab": {
          "base_uri": "https://localhost:8080/",
          "height": 54
        },
        "id": "bI1vElULap_u",
        "outputId": "0e3a0944-fca4-4833-ed0a-cb01002f7efa"
      },
      "source": [
        "'''from IPython.display import SVG\n",
        "from keras.utils.vis_utils import model_to_dot\n",
        "\n",
        "SVG(model_to_dot(vnl_autoencoder).create(prog='dot', format='svg'))'''"
      ],
      "execution_count": 13,
      "outputs": [
        {
          "output_type": "execute_result",
          "data": {
            "application/vnd.google.colaboratory.intrinsic+json": {
              "type": "string"
            },
            "text/plain": [
              "\"from IPython.display import SVG\\nfrom keras.utils.vis_utils import model_to_dot\\n\\nSVG(model_to_dot(vnl_autoencoder).create(prog='dot', format='svg'))\""
            ]
          },
          "metadata": {
            "tags": []
          },
          "execution_count": 13
        }
      ]
    },
    {
      "cell_type": "markdown",
      "metadata": {
        "id": "jSmr8WbDkUu4"
      },
      "source": [
        "#To train the Vanilla Autoencoder Model developed :"
      ]
    },
    {
      "cell_type": "code",
      "metadata": {
        "colab": {
          "base_uri": "https://localhost:8080/"
        },
        "id": "G0fr5GoYaqDr",
        "outputId": "161ff7e2-6528-4e13-fc0c-b063f4878a8d"
      },
      "source": [
        "epochs = 5\n",
        "batch_size = 128\n",
        "\n",
        "history = vnl_autoencoder.fit(X_train, X_train, batch_size=batch_size, epochs=epochs, verbose=1, validation_data=(X_test, X_test))"
      ],
      "execution_count": 15,
      "outputs": [
        {
          "output_type": "stream",
          "text": [
            "Epoch 1/5\n",
            "469/469 [==============================] - 4s 3ms/step - loss: 0.0752 - val_loss: 0.0222\n",
            "Epoch 2/5\n",
            "469/469 [==============================] - 1s 2ms/step - loss: 0.0195 - val_loss: 0.0127\n",
            "Epoch 3/5\n",
            "469/469 [==============================] - 1s 2ms/step - loss: 0.0118 - val_loss: 0.0086\n",
            "Epoch 4/5\n",
            "469/469 [==============================] - 1s 2ms/step - loss: 0.0082 - val_loss: 0.0066\n",
            "Epoch 5/5\n",
            "469/469 [==============================] - 1s 2ms/step - loss: 0.0065 - val_loss: 0.0056\n"
          ],
          "name": "stdout"
        }
      ]
    },
    {
      "cell_type": "markdown",
      "metadata": {
        "id": "ke_9GBT5knzv"
      },
      "source": [
        "To plot a few predictions made by the developed Vanilla Autoencoder Model on the Test set of the MNIST dataset :"
      ]
    },
    {
      "cell_type": "code",
      "metadata": {
        "colab": {
          "base_uri": "https://localhost:8080/",
          "height": 413
        },
        "id": "V-qAxfrgkcgD",
        "outputId": "4608ad1a-f912-4b7a-93da-af6205d7d715"
      },
      "source": [
        "vnl_encoder = Model(x, h)\n",
        "encoded_imgs1 = vnl_encoder.predict(X_test)\n",
        "\n",
        "n = 10\n",
        "plt.figure(figsize=(20, 8))\n",
        "for i in range(n):\n",
        "    ax = plt.subplot(1, n, i+1)\n",
        "    plt.imshow(encoded_imgs1[i].reshape(4, 16).T)\n",
        "    plt.gray()\n",
        "    ax.get_xaxis().set_visible(False)\n",
        "    ax.get_yaxis().set_visible(False)\n",
        "plt.show()"
      ],
      "execution_count": 16,
      "outputs": [
        {
          "output_type": "display_data",
          "data": {
            "image/png": "[encoded data removed]",
            "text/plain": [
              "<Figure size 1440x576 with 10 Axes>"
            ]
          },
          "metadata": {
            "tags": [],
            "needs_background": "light"
          }
        }
      ]
    },
    {
      "cell_type": "code",
      "metadata": {
        "id": "NJsic5GhoLxU"
      },
      "source": [
        ""
      ],
      "execution_count": null,
      "outputs": []
    },
    {
      "cell_type": "markdown",
      "metadata": {
        "id": "gbWvTQUKlX49"
      },
      "source": [
        "Predictions made by the developed Vanilla Autoencoder Model on the Test set of the MNIST dataset :"
      ]
    },
    {
      "cell_type": "code",
      "metadata": {
        "id": "-3B0vVtXkci5"
      },
      "source": [
        "decoded_imgs1 = vnl_autoencoder.predict(X_test)"
      ],
      "execution_count": 17,
      "outputs": []
    },
    {
      "cell_type": "markdown",
      "metadata": {
        "id": "YPAbwIPxnN6e"
      },
      "source": [
        "To Plot the Original/Actual  Test set imagaes of the MNIST dataset :"
      ]
    },
    {
      "cell_type": "code",
      "metadata": {
        "colab": {
          "base_uri": "https://localhost:8080/",
          "height": 129
        },
        "id": "h7-y-IOikclg",
        "outputId": "b54fd8cd-2895-4fb0-a2c6-0a57e47460eb"
      },
      "source": [
        "n = 10\n",
        "plt.figure(figsize=(20, 6))\n",
        "for i in range(n):\n",
        "    # display original\n",
        "    ax = plt.subplot(3, n, i+1)\n",
        "    plt.imshow(X_test[i].reshape(28, 28))\n",
        "    plt.gray()\n",
        "    ax.get_xaxis().set_visible(False)\n",
        "    ax.get_yaxis().set_visible(False)"
      ],
      "execution_count": 19,
      "outputs": [
        {
          "output_type": "display_data",
          "data": {
            "image/png": "[encoded data removed]",
            "text/plain": [
              "<Figure size 1440x432 with 10 Axes>"
            ]
          },
          "metadata": {
            "tags": [],
            "needs_background": "light"
          }
        }
      ]
    },
    {
      "cell_type": "markdown",
      "metadata": {
        "id": "PdU8kqe3l8rM"
      },
      "source": [
        "To Plot the predicted Output images of the developed Vanilla Autoencoder Model implemented on the Test set of the MNIST dataset :"
      ]
    },
    {
      "cell_type": "code",
      "metadata": {
        "colab": {
          "base_uri": "https://localhost:8080/",
          "height": 129
        },
        "id": "2yq27lm8kcqf",
        "outputId": "527eecdd-f28e-4f8e-c135-c732e2b1f677"
      },
      "source": [
        "n = 10\n",
        "plt.figure(figsize=(20, 6))\n",
        "for i in range(n):\n",
        "# display reconstruction\n",
        "    ax = plt.subplot(3, n, i+n+1)\n",
        "    plt.imshow(decoded_imgs1[i].reshape(28, 28))\n",
        "    plt.gray()\n",
        "    ax.get_xaxis().set_visible(False)\n",
        "    ax.get_yaxis().set_visible(False)\n",
        "    \n",
        "plt.show()"
      ],
      "execution_count": 20,
      "outputs": [
        {
          "output_type": "display_data",
          "data": {
            "image/png": "[encoded data removed]",
            "text/plain": [
              "<Figure size 1440x432 with 10 Axes>"
            ]
          },
          "metadata": {
            "tags": [],
            "needs_background": "light"
          }
        }
      ]
    },
    {
      "cell_type": "code",
      "metadata": {
        "id": "QKPjBN-Akcs3"
      },
      "source": [
        ""
      ],
      "execution_count": 20,
      "outputs": []
    },
    {
      "cell_type": "markdown",
      "metadata": {
        "id": "wEg4soMAoSED"
      },
      "source": [
        "#To Plot the losses of the developed Vanilla Autoencoder Model implemented on the Test set of the MNIST dataset :"
      ]
    },
    {
      "cell_type": "code",
      "metadata": {
        "colab": {
          "base_uri": "https://localhost:8080/",
          "height": 313
        },
        "id": "jyWIS12Wkcvc",
        "outputId": "684c8c14-7346-4294-feed-c67cdf9f2ab9"
      },
      "source": [
        "print(history.history.keys())\n",
        "\n",
        "plt.plot(history.history['loss'])\n",
        "plt.plot(history.history['val_loss'])\n",
        "plt.title('model loss')\n",
        "plt.ylabel('loss')\n",
        "plt.xlabel('epoch')\n",
        "plt.legend(['train', 'validation'], loc='upper right')\n",
        "plt.show()"
      ],
      "execution_count": 21,
      "outputs": [
        {
          "output_type": "stream",
          "text": [
            "dict_keys(['loss', 'val_loss'])\n"
          ],
          "name": "stdout"
        },
        {
          "output_type": "display_data",
          "data": {
            "image/png": "[encoded data removed]",
            "text/plain": [
              "<Figure size 432x288 with 1 Axes>"
            ]
          },
          "metadata": {
            "tags": [],
            "needs_background": "light"
          }
        }
      ]
    },
    {
      "cell_type": "code",
      "metadata": {
        "id": "-abOydcYoO3x"
      },
      "source": [
        ""
      ],
      "execution_count": null,
      "outputs": []
    },
    {
      "cell_type": "code",
      "metadata": {
        "id": "kLyvdsUloO6V"
      },
      "source": [
        ""
      ],
      "execution_count": null,
      "outputs": []
    },
    {
      "cell_type": "code",
      "metadata": {
        "id": "rzRX-oeGoO82"
      },
      "source": [
        ""
      ],
      "execution_count": null,
      "outputs": []
    },
    {
      "cell_type": "code",
      "metadata": {
        "id": "4cdWX-JGoO_f"
      },
      "source": [
        ""
      ],
      "execution_count": null,
      "outputs": []
    },
    {
      "cell_type": "code",
      "metadata": {
        "id": "Q1tCvM8RoPCT"
      },
      "source": [
        ""
      ],
      "execution_count": null,
      "outputs": []
    },
    {
      "cell_type": "code",
      "metadata": {
        "id": "EQ9exYByoPEp"
      },
      "source": [
        ""
      ],
      "execution_count": null,
      "outputs": []
    },
    {
      "cell_type": "code",
      "metadata": {
        "id": "NI5Vj96GoPHQ"
      },
      "source": [
        ""
      ],
      "execution_count": null,
      "outputs": []
    },
    {
      "cell_type": "code",
      "metadata": {
        "id": "F5RDntfLoPJt"
      },
      "source": [
        ""
      ],
      "execution_count": null,
      "outputs": []
    },
    {
      "cell_type": "code",
      "metadata": {
        "id": "83fyGJHqkczF"
      },
      "source": [
        ""
      ],
      "execution_count": 20,
      "outputs": []
    },
    {
      "cell_type": "markdown",
      "metadata": {
        "id": "yKsLw9krbzE1"
      },
      "source": [
        ""
      ]
    }
  ]
}